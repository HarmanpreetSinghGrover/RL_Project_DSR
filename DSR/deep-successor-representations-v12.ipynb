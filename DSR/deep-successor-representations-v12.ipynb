{
 "cells": [
  {
   "cell_type": "markdown",
   "metadata": {},
   "source": [
    "### Description of notebook"
   ]
  },
  {
   "cell_type": "markdown",
   "metadata": {},
   "source": [
    "In this notebook, I implement Deep Successor Reinforcement Learning by Tejas D. Kulkarni, Ardavan Saeedi, Simanta Gautam, Samuel J. Gershman. ([link](https://arxiv.org/abs/1606.02396))\n",
    "\n",
    "v12 - incomplete attempt for boxing game\n",
    "\n",
    "To do:\n",
    "- include visdom for visualization"
   ]
  },
  {
   "cell_type": "markdown",
   "metadata": {},
   "source": [
    "### Loading required libraries"
   ]
  },
  {
   "cell_type": "code",
   "execution_count": 1,
   "metadata": {},
   "outputs": [],
   "source": [
    "import torch\n",
    "import torch.nn as nn\n",
    "import torch.optim as optim\n",
    "import torch.nn.functional as F\n",
    "import torchvision.transforms as T\n",
    "from torch.utils.data import Dataset, DataLoader\n",
    "from tqdm import tqdm\n",
    "\n",
    "# if gpu is to be used\n",
    "device = torch.device(\"cuda\" if torch.cuda.is_available() else \"cpu\")\n",
    "# device = torch.device(\"cpu\")\n",
    "\n",
    "import gym\n",
    "import math\n",
    "import random\n",
    "import numpy as np\n",
    "import matplotlib\n",
    "%matplotlib inline\n",
    "import matplotlib.pyplot as plt\n",
    "from collections import namedtuple\n",
    "from itertools import count\n",
    "from PIL import Image\n",
    "from skimage.transform import resize"
   ]
  },
  {
   "cell_type": "markdown",
   "metadata": {},
   "source": [
    "### Setting up environment"
   ]
  },
  {
   "cell_type": "code",
   "execution_count": 2,
   "metadata": {},
   "outputs": [],
   "source": [
    "env = gym.make('Boxing-v0')"
   ]
  },
  {
   "cell_type": "code",
   "execution_count": 3,
   "metadata": {},
   "outputs": [],
   "source": [
    "IMG_HEIGHT = 80\n",
    "IMG_WIDTH = 80\n",
    "\n",
    "def get_screen(env):\n",
    "    k = env.render(mode='rgb_array')\n",
    "    k = resize(k, (IMG_HEIGHT, IMG_WIDTH), anti_aliasing=False)\n",
    "    k = torch.Tensor(k)\n",
    "    k = k.permute(2,1,0).unsqueeze(0)\n",
    "    k = k.to(device)\n",
    "    return k\n",
    "\n",
    "# def state2screen(state):\n",
    "#     k = resize(state, (IMG_HEIGHT, IMG_WIDTH), anti_aliasing=False)\n",
    "#     k = torch.Tensor(k)\n",
    "#     k = k.permute(2,1,0).unsqueeze(0)\n",
    "#     k = k.to(device)\n",
    "#     return k"
   ]
  },
  {
   "cell_type": "code",
   "execution_count": 4,
   "metadata": {},
   "outputs": [
    {
     "data": {
      "image/png": "[encoded data removed]",
      "text/plain": [
       "<Figure size 432x288 with 1 Axes>"
      ]
     },
     "metadata": {
      "needs_background": "light"
     },
     "output_type": "display_data"
    },
    {
     "name": "stdout",
     "output_type": "stream",
     "text": [
      "(210, 160, 3)\n"
     ]
    },
    {
     "data": {
      "text/plain": [
       "<matplotlib.image.AxesImage at 0x7f4304abfb70>"
      ]
     },
     "execution_count": 4,
     "metadata": {},
     "output_type": "execute_result"
    },
    {
     "data": {
      "image/png": "[encoded data removed]",
      "text/plain": [
       "<Figure size 432x288 with 1 Axes>"
      ]
     },
     "metadata": {
      "needs_background": "light"
     },
     "output_type": "display_data"
    }
   ],
   "source": [
    "from gym_minigrid.envs import EmptyEnv\n",
    "\n",
    "env_name = 'Boxing-v0'\n",
    "# env_name='MiniGrid-Empty-Random-5x5-v0'\n",
    "# env = EmptyEnv()\n",
    "env = gym.make(env_name)\n",
    "k = env.render(mode='rgb_array')\n",
    "plt.imshow(env.render(mode='rgb_array'));plt.show()\n",
    "print(k.shape)\n",
    "plt.imshow(resize(k, (IMG_HEIGHT, IMG_WIDTH), anti_aliasing=False))"
   ]
  },
  {
   "cell_type": "markdown",
   "metadata": {},
   "source": [
    "### Implementing neural network in torch for FA"
   ]
  },
  {
   "cell_type": "code",
   "execution_count": 5,
   "metadata": {},
   "outputs": [],
   "source": [
    "PHI_SIZE = 512\n",
    "\n",
    "class thetaNet(nn.Module):\n",
    "\n",
    "    def __init__(self, h=80, w=80, outputs=PHI_SIZE):\n",
    "        super(thetaNet, self).__init__()\n",
    "        self.conv1 = nn.Conv2d(3, 32, kernel_size=5, stride=2)\n",
    "        self.bn1 = nn.BatchNorm2d(32)\n",
    "        self.conv2 = nn.Conv2d(32, 64, kernel_size=5, stride=2)\n",
    "        self.bn2 = nn.BatchNorm2d(64)\n",
    "        self.conv3 = nn.Conv2d(64, 64, kernel_size=5, stride=2)\n",
    "        self.bn3 = nn.BatchNorm2d(64)\n",
    "\n",
    "        # Number of Linear input connections depends on output of conv2d layers\n",
    "        # and therefore the input image size, so compute it.\n",
    "        def conv2d_size_out(size, kernel_size = 5, stride = 2):\n",
    "            return (size - (kernel_size - 1) - 1) // stride  + 1\n",
    "        convw = conv2d_size_out(conv2d_size_out(conv2d_size_out(w)))\n",
    "        convh = conv2d_size_out(conv2d_size_out(conv2d_size_out(h)))\n",
    "        linear_input_size = convw * convh * 64\n",
    "        \n",
    "        self.head = nn.Linear(linear_input_size, outputs)\n",
    "\n",
    "    # Called with either one element to determine next action, or a batch\n",
    "    # during optimization. Returns tensor([[left0exp,right0exp]...]).\n",
    "    def forward(self, x):\n",
    "        x = F.relu(self.bn1(self.conv1(x)))\n",
    "        x = F.relu(self.bn2(self.conv2(x)))\n",
    "        x = F.relu(self.bn3(self.conv3(x)));\n",
    "        return self.head(x.view(x.size(0), -1))\n",
    "    \n",
    "class theta2Net(nn.Module): # decoder for thetaNet\n",
    "    def __init__(self, h=80, w=80, inputs=PHI_SIZE):\n",
    "        super(theta2Net, self).__init__()\n",
    "        \n",
    "        def conv2d_size_out(size, kernel_size = 5, stride = 2):\n",
    "            return (size - (kernel_size - 1) - 1) // stride  + 1\n",
    "        self.convw = conv2d_size_out(conv2d_size_out(conv2d_size_out(w)))\n",
    "        self.convh = conv2d_size_out(conv2d_size_out(conv2d_size_out(h)))\n",
    "        linear_input_size = self.convw * self.convh * 64\n",
    "        \n",
    "        self.linear = nn.Linear(inputs, linear_input_size)\n",
    "        self.bn1 = nn.BatchNorm2d(64)\n",
    "        self.deconv1 = nn.ConvTranspose2d(64, 64, kernel_size=5, stride=2, output_padding=0)\n",
    "        self.bn2 = nn.BatchNorm2d(64)\n",
    "        self.deconv2 = nn.ConvTranspose2d(64, 32, kernel_size=5, stride=2, output_padding=1)\n",
    "        self.bn3 = nn.BatchNorm2d(32)\n",
    "        self.deconv3 = nn.ConvTranspose2d(32, 3, kernel_size=5, stride=2, output_padding=1)\n",
    "    \n",
    "    def forward(self, x):\n",
    "        x = F.relu(self.linear(x))\n",
    "#         import pdb; pdb.set_trace()\n",
    "        x = x.view(x.size(0), 64, self.convh, self.convw)\n",
    "        x = self.bn1(x)\n",
    "        x = F.relu(self.bn2(self.deconv1(x)))\n",
    "        x = F.relu(self.bn3(self.deconv2(x)))\n",
    "        x = self.deconv3(x)\n",
    "        \n",
    "        return x\n",
    "    \n",
    "class alphaNet(nn.Module):\n",
    "\n",
    "    def __init__(self, in_size=PHI_SIZE, mid_size=256, actions=3):\n",
    "        super(alphaNet, self).__init__()\n",
    "        self.head11 = nn.Linear(in_size, in_size)\n",
    "        self.head12 = nn.Linear(in_size, mid_size)\n",
    "        self.head13 = nn.Linear(mid_size, in_size)\n",
    "        self.head21 = nn.Linear(in_size, in_size)\n",
    "        self.head22 = nn.Linear(in_size, mid_size)\n",
    "        self.head23 = nn.Linear(mid_size, in_size)\n",
    "        self.head31 = nn.Linear(in_size, in_size)\n",
    "        self.head32 = nn.Linear(in_size, mid_size)\n",
    "        self.head33 = nn.Linear(mid_size, in_size)\n",
    "        self.actions = actions\n",
    "\n",
    "    # Called with either one element to determine next action, or a batch\n",
    "    # during optimization. Returns tensor([[left0exp,right0exp]...]).\n",
    "    def forward(self, x):\n",
    "        x1 = self.head13(F.relu(self.head12(F.relu(self.head11(x)))))\n",
    "        x2 = self.head23(F.relu(self.head22(F.relu(self.head21(x)))))\n",
    "        x3 = self.head33(F.relu(self.head32(F.relu(self.head31(x)))))\n",
    "        y = torch.cat((x1, x2, x3), 1)\n",
    "        return y.view(y.size(0), self.actions, -1)\n",
    "    \n",
    "class wNet(nn.Module):\n",
    "\n",
    "    def __init__(self, in_size=PHI_SIZE):\n",
    "        super(wNet, self).__init__()\n",
    "        self.head = nn.Linear(in_size, 1)\n",
    "\n",
    "    # Called with either one element to determine next action, or a batch\n",
    "    # during optimization. Returns tensor([[left0exp,right0exp]...]).\n",
    "    def forward(self, x):\n",
    "        return self.head(x)"
   ]
  },
  {
   "cell_type": "markdown",
   "metadata": {},
   "source": [
    "### Implementing replay memory"
   ]
  },
  {
   "cell_type": "code",
   "execution_count": 6,
   "metadata": {},
   "outputs": [],
   "source": [
    "Transition = namedtuple('Transition',\n",
    "                        ('state', 'action', 'next_state', 'reward', 'done'))\n",
    "\n",
    "\n",
    "class ReplayMemory(object):\n",
    "\n",
    "    def __init__(self, capacity):\n",
    "        self.capacity = capacity\n",
    "        self.memory = []\n",
    "        self.position = 0\n",
    "        self.ready = False\n",
    "\n",
    "    def push(self, *args):\n",
    "        \"\"\"Saves a transition.\"\"\"\n",
    "        self.ready = True\n",
    "        if len(self.memory) < self.capacity:\n",
    "            self.memory.append(None)\n",
    "        self.memory[self.position] = Transition(*args)\n",
    "        self.position = (self.position + 1) % self.capacity\n",
    "\n",
    "    def sample(self, batch_size):\n",
    "        if(len(self.memory) < batch_size):\n",
    "            return random.sample(self.memory, len(self.memory)), len(self.memory)\n",
    "        return random.sample(self.memory, batch_size), batch_size\n",
    "    \n",
    "    def is_ready(self):\n",
    "        return len(self.memory)>2\n",
    "\n",
    "    def __len__(self):\n",
    "        return len(self.memory)"
   ]
  },
  {
   "cell_type": "markdown",
   "metadata": {},
   "source": [
    "### Setting up networks and memory"
   ]
  },
  {
   "cell_type": "code",
   "execution_count": 7,
   "metadata": {},
   "outputs": [],
   "source": [
    "tnet = thetaNet().to(device); tnet2 = theta2Net().to(device);\n",
    "anet = alphaNet().to(device); wnet = wNet().to(device); \n",
    "anet_target = alphaNet().to(device); anet_target.load_state_dict(anet.state_dict()); anet_target.eval()\n",
    "\n",
    "memory = ReplayMemory(50000)\n",
    "memory_win = ReplayMemory(1000)"
   ]
  },
  {
   "cell_type": "markdown",
   "metadata": {},
   "source": [
    "### Creating select action method"
   ]
  },
  {
   "cell_type": "code",
   "execution_count": 8,
   "metadata": {},
   "outputs": [],
   "source": [
    "steps_done = 0\n",
    "BATCH_SIZE = 8000\n",
    "GAMMA = 0.99\n",
    "EPS_START = 1\n",
    "EPS_END = 0.01\n",
    "EPS_DECAY = 2000\n",
    "TARGET_UPDATE = 20\n",
    "eps_threshold = 1\n",
    "\n",
    "def select_action(phi, w, greedy=False):\n",
    "    if(greedy):\n",
    "        aout = anet(phi)\n",
    "        return aout.matmul(w).max(1)[1]\n",
    "    global steps_done\n",
    "    global eps_threshold\n",
    "    sample = random.random()\n",
    "    eps_threshold = EPS_END + (EPS_START - EPS_END) * \\\n",
    "        math.exp(-1. * steps_done / EPS_DECAY)\n",
    "    steps_done += 1\n",
    "    if sample > eps_threshold:\n",
    "        with torch.no_grad():\n",
    "            aout = anet(phi)\n",
    "            return aout.matmul(w).max(1)[1] #maybe add .view(1,1)\n",
    "    else:\n",
    "#         import pdb; pdb.set_trace();\n",
    "        return torch.tensor([[random.randrange(n_actions)]], device=device, dtype=torch.long)"
   ]
  },
  {
   "cell_type": "markdown",
   "metadata": {},
   "source": [
    "### Optimization function"
   ]
  },
  {
   "cell_type": "code",
   "execution_count": 9,
   "metadata": {},
   "outputs": [],
   "source": [
    "loss = nn.MSELoss()\n",
    "loss_a = nn.MSELoss()\n",
    "loss_b = nn.MSELoss()\n",
    "L_r_vec = []\n",
    "L_m_vec = []\n",
    "L_a_vec = []\n",
    "\n",
    "tw_params = list(tnet.parameters()) + list(tnet2.parameters()) + list(wnet.parameters())\n",
    "optimizer_tw = optim.Adam(tw_params, lr=50e-5)\n",
    "optimizer_a = optim.Adam(anet.parameters(), lr=25e-5)\n",
    "\n",
    "def optimize_model():\n",
    "    if (len(memory) < BATCH_SIZE) or (not memory_win.is_ready()):\n",
    "        return\n",
    "    \n",
    "    # Training reward and reconstruction branches\n",
    "    if(np.random.rand()>0.8): # winning samples 20% times this runs\n",
    "        transitions, bs = memory_win.sample(BATCH_SIZE)\n",
    "        \n",
    "    else: # intermediate samples\n",
    "        transitions, bs = memory.sample(BATCH_SIZE)\n",
    "        \n",
    "    batch = Transition(*zip(*transitions))\n",
    "    state_batch = torch.cat(batch.state)\n",
    "    action_batch = torch.cat(batch.action)\n",
    "    reward_batch = torch.cat(batch.reward)\n",
    "    nstate_batch = torch.cat(batch.next_state)\n",
    "    action_max = anet(tnet(state_batch)).matmul(wnet.head.weight.data.view(-1,1)).max(1)[1]\n",
    "    next_state_ests = anet_target(tnet(nstate_batch))[torch.arange(0, bs),action_max.squeeze(),:]\n",
    "    \n",
    "    L_r = F.smooth_l1_loss(reward_batch, wnet(tnet(nstate_batch)).squeeze(1))\n",
    "    L_a = loss_a(state_batch, tnet2(tnet(state_batch))) + loss_b(nstate_batch, tnet2(tnet(nstate_batch)))\n",
    "    L_r_vec.append(L_r.item())\n",
    "    L_a_vec.append(L_a.item())\n",
    "    L_ra = L_a + L_r\n",
    "    optimizer_tw.zero_grad()\n",
    "    L_ra.backward()\n",
    "    optimizer_tw.step()\n",
    "    \n",
    "    \n",
    "    # Training the SR branch\n",
    "    transitions, bs = memory.sample(32)\n",
    "    batch = Transition(*zip(*transitions))\n",
    "    state_batch = torch.cat(batch.state)\n",
    "    action_batch = torch.cat(batch.action)\n",
    "    reward_batch = torch.cat(batch.reward)\n",
    "    nstate_batch = torch.cat(batch.next_state)\n",
    "    done_batch = torch.cat(batch.done)\n",
    "    \n",
    "    \n",
    "    # Create a non-final state mask\n",
    "    non_final_mask = torch.tensor(tuple(map(lambda s: s==0,\n",
    "                                          batch.done)), device=device, dtype=torch.bool)\n",
    "    non_final_next_states = torch.cat([s for en, s in enumerate(batch.next_state)\n",
    "                                                if batch.done[en]==0])\n",
    "    action_max = anet(tnet(non_final_next_states)).matmul(wnet.head.weight.data.view(-1,1)).max(1)[1]\n",
    "    # initialize them to values we need for terminal states\n",
    "    next_state_ests = tnet(nstate_batch) \n",
    "    # replace the values of non-terminal states based on update equation\n",
    "    \n",
    "    next_state_ests[non_final_mask] = anet_target(tnet(non_final_next_states))[torch.arange(0, non_final_mask.sum()),\n",
    "                                                                               action_max.squeeze(),:]\n",
    "    U_observed = anet(tnet(state_batch))[torch.arange(0, bs),action_batch.squeeze(),:]\n",
    "    U_estimated = tnet(state_batch) + GAMMA * next_state_ests\n",
    "    L_m = loss(U_observed, U_estimated)\n",
    "    L_m_vec.append(L_m.item())\n",
    "    optimizer_a.zero_grad()\n",
    "    L_m.backward()\n",
    "    optimizer_a.step()"
   ]
  },
  {
   "cell_type": "markdown",
   "metadata": {},
   "source": [
    "### Evaluation function"
   ]
  },
  {
   "cell_type": "code",
   "execution_count": 10,
   "metadata": {},
   "outputs": [],
   "source": [
    "env_test = gym.make(env_name)\n",
    "def evaluate(no_seeds=10):\n",
    "    r_vec = []\n",
    "    for i in range(no_seeds):\n",
    "        env_test.seed(i)\n",
    "        env_test.reset()\n",
    "        Rt = 0\n",
    "        for timesteps in count():\n",
    "            # choose greedy action\n",
    "            action = select_action(tnet(get_screen(env_test)), wnet.head.weight.data.view(-1,1), greedy=True)\n",
    "            _, R, done, _ = env_test.step(action.item())\n",
    "            Rt = R + Rt\n",
    "            if(done):\n",
    "                r_vec.append(R)\n",
    "                break\n",
    "                \n",
    "    return np.mean(r_vec), np.std(r_vec) "
   ]
  },
  {
   "cell_type": "markdown",
   "metadata": {},
   "source": [
    "### Main code"
   ]
  },
  {
   "cell_type": "code",
   "execution_count": 11,
   "metadata": {},
   "outputs": [],
   "source": [
    "# Initializations: Line 1\n",
    "num_episodes = 300 # CHANGE\n",
    "n_actions = 3\n",
    "R_eps = []\n",
    "ed = []; eps_vec = [];\n",
    "actions = []\n",
    "eval_r_mean = []; eval_r_std = []\n",
    "EVAL_INTERVAL = 1000\n",
    "\n",
    "#Setting seeds\n",
    "torch.manual_seed(0); np.random.seed(0)\n",
    "env.seed(0)\n",
    "torch.backends.cudnn.deterministic = True"
   ]
  },
  {
   "cell_type": "code",
   "execution_count": 12,
   "metadata": {},
   "outputs": [
    {
     "name": "stderr",
     "output_type": "stream",
     "text": [
      "  1%|          | 2/300 [00:01<03:58,  1.25it/s]"
     ]
    },
    {
     "name": "stdout",
     "output_type": "stream",
     "text": [
      "tensor([1.], device='cuda:0')\n",
      "tensor([1.], device='cuda:0')\n"
     ]
    },
    {
     "name": "stderr",
     "output_type": "stream",
     "text": [
      "\r",
      "  1%|          | 3/300 [00:01<02:56,  1.68it/s]"
     ]
    },
    {
     "name": "stdout",
     "output_type": "stream",
     "text": [
      "tensor([1.], device='cuda:0')\n"
     ]
    },
    {
     "name": "stderr",
     "output_type": "stream",
     "text": [
      "\r",
      "  1%|▏         | 4/300 [01:52<2:46:40, 33.78s/it]"
     ]
    },
    {
     "name": "stdout",
     "output_type": "stream",
     "text": [
      "tensor([1.], device='cuda:0')\n"
     ]
    },
    {
     "name": "stderr",
     "output_type": "stream",
     "text": [
      "\r",
      "  2%|▏         | 5/300 [02:19<2:36:37, 31.86s/it]"
     ]
    },
    {
     "name": "stdout",
     "output_type": "stream",
     "text": [
      "tensor([1.], device='cuda:0')\n"
     ]
    },
    {
     "name": "stderr",
     "output_type": "stream",
     "text": [
      "\r",
      "  2%|▏         | 6/300 [02:23<1:54:10, 23.30s/it]"
     ]
    },
    {
     "name": "stdout",
     "output_type": "stream",
     "text": [
      "tensor([1.], device='cuda:0')\n"
     ]
    },
    {
     "name": "stderr",
     "output_type": "stream",
     "text": [
      "\r",
      "  2%|▏         | 7/300 [02:34<1:36:14, 19.71s/it]"
     ]
    },
    {
     "name": "stdout",
     "output_type": "stream",
     "text": [
      "tensor([1.], device='cuda:0')\n"
     ]
    },
    {
     "name": "stderr",
     "output_type": "stream",
     "text": [
      "\r",
      "  3%|▎         | 8/300 [02:42<1:19:07, 16.26s/it]"
     ]
    },
    {
     "name": "stdout",
     "output_type": "stream",
     "text": [
      "tensor([1.], device='cuda:0')\n"
     ]
    },
    {
     "name": "stderr",
     "output_type": "stream",
     "text": [
      "\r",
      "  3%|▎         | 9/300 [02:49<1:04:21, 13.27s/it]"
     ]
    },
    {
     "name": "stdout",
     "output_type": "stream",
     "text": [
      "tensor([1.], device='cuda:0')\n"
     ]
    },
    {
     "name": "stderr",
     "output_type": "stream",
     "text": [
      "\r",
      "  3%|▎         | 10/300 [02:49<46:10,  9.55s/it] "
     ]
    },
    {
     "name": "stdout",
     "output_type": "stream",
     "text": [
      "tensor([1.], device='cuda:0')\n"
     ]
    },
    {
     "name": "stderr",
     "output_type": "stream",
     "text": [
      "\r",
      "  4%|▎         | 11/300 [02:51<33:48,  7.02s/it]"
     ]
    },
    {
     "name": "stdout",
     "output_type": "stream",
     "text": [
      "tensor([1.], device='cuda:0')\n"
     ]
    },
    {
     "name": "stderr",
     "output_type": "stream",
     "text": [
      "\r",
      "  4%|▍         | 12/300 [03:02<39:26,  8.22s/it]"
     ]
    },
    {
     "name": "stdout",
     "output_type": "stream",
     "text": [
      "tensor([1.], device='cuda:0')\n"
     ]
    },
    {
     "name": "stderr",
     "output_type": "stream",
     "text": [
      "\r",
      "  4%|▍         | 13/300 [03:15<46:13,  9.66s/it]"
     ]
    },
    {
     "name": "stdout",
     "output_type": "stream",
     "text": [
      "tensor([1.], device='cuda:0')\n"
     ]
    },
    {
     "name": "stderr",
     "output_type": "stream",
     "text": [
      "\r",
      "  5%|▍         | 14/300 [03:16<33:51,  7.10s/it]"
     ]
    },
    {
     "name": "stdout",
     "output_type": "stream",
     "text": [
      "tensor([1.], device='cuda:0')\n"
     ]
    },
    {
     "name": "stderr",
     "output_type": "stream",
     "text": [
      "\r",
      "  5%|▌         | 15/300 [03:17<25:24,  5.35s/it]"
     ]
    },
    {
     "name": "stdout",
     "output_type": "stream",
     "text": [
      "tensor([1.], device='cuda:0')\n"
     ]
    },
    {
     "name": "stderr",
     "output_type": "stream",
     "text": [
      "\r",
      "  5%|▌         | 16/300 [03:30<36:45,  7.77s/it]"
     ]
    },
    {
     "name": "stdout",
     "output_type": "stream",
     "text": [
      "tensor([1.], device='cuda:0')\n"
     ]
    },
    {
     "name": "stderr",
     "output_type": "stream",
     "text": [
      "\r",
      "  6%|▌         | 17/300 [03:32<27:17,  5.79s/it]"
     ]
    },
    {
     "name": "stdout",
     "output_type": "stream",
     "text": [
      "tensor([1.], device='cuda:0')\n"
     ]
    },
    {
     "name": "stderr",
     "output_type": "stream",
     "text": [
      "\r",
      "  6%|▌         | 18/300 [03:37<26:14,  5.58s/it]"
     ]
    },
    {
     "name": "stdout",
     "output_type": "stream",
     "text": [
      "tensor([1.], device='cuda:0')\n"
     ]
    },
    {
     "name": "stderr",
     "output_type": "stream",
     "text": [
      "\r",
      "  6%|▋         | 19/300 [03:38<19:50,  4.24s/it]"
     ]
    },
    {
     "name": "stdout",
     "output_type": "stream",
     "text": [
      "tensor([1.], device='cuda:0')\n"
     ]
    },
    {
     "name": "stderr",
     "output_type": "stream",
     "text": [
      "\r",
      "  7%|▋         | 20/300 [03:39<15:22,  3.30s/it]"
     ]
    },
    {
     "name": "stdout",
     "output_type": "stream",
     "text": [
      "tensor([1.], device='cuda:0')\n"
     ]
    },
    {
     "name": "stderr",
     "output_type": "stream",
     "text": [
      "\r",
      "  7%|▋         | 21/300 [03:40<11:59,  2.58s/it]"
     ]
    },
    {
     "name": "stdout",
     "output_type": "stream",
     "text": [
      "tensor([1.], device='cuda:0')\n"
     ]
    },
    {
     "name": "stderr",
     "output_type": "stream",
     "text": [
      "\r",
      "  7%|▋         | 22/300 [03:45<16:02,  3.46s/it]"
     ]
    },
    {
     "name": "stdout",
     "output_type": "stream",
     "text": [
      "tensor([1.], device='cuda:0')\n"
     ]
    },
    {
     "name": "stderr",
     "output_type": "stream",
     "text": [
      "\r",
      "  8%|▊         | 23/300 [03:46<12:25,  2.69s/it]"
     ]
    },
    {
     "name": "stdout",
     "output_type": "stream",
     "text": [
      "tensor([1.], device='cuda:0')\n"
     ]
    },
    {
     "name": "stderr",
     "output_type": "stream",
     "text": [
      "\r",
      "  8%|▊         | 24/300 [03:47<10:07,  2.20s/it]"
     ]
    },
    {
     "name": "stdout",
     "output_type": "stream",
     "text": [
      "tensor([1.], device='cuda:0')\n"
     ]
    },
    {
     "name": "stderr",
     "output_type": "stream",
     "text": [
      "\r",
      "  8%|▊         | 25/300 [03:50<10:24,  2.27s/it]"
     ]
    },
    {
     "name": "stdout",
     "output_type": "stream",
     "text": [
      "tensor([1.], device='cuda:0')\n"
     ]
    },
    {
     "name": "stderr",
     "output_type": "stream",
     "text": [
      "\r",
      "  9%|▊         | 26/300 [03:51<08:32,  1.87s/it]"
     ]
    },
    {
     "name": "stdout",
     "output_type": "stream",
     "text": [
      "tensor([1.], device='cuda:0')\n"
     ]
    },
    {
     "name": "stderr",
     "output_type": "stream",
     "text": [
      "\r",
      "  9%|▉         | 27/300 [03:52<07:29,  1.65s/it]"
     ]
    },
    {
     "name": "stdout",
     "output_type": "stream",
     "text": [
      "tensor([1.], device='cuda:0')\n"
     ]
    },
    {
     "name": "stderr",
     "output_type": "stream",
     "text": [
      "\r",
      "  9%|▉         | 28/300 [04:03<20:14,  4.46s/it]"
     ]
    },
    {
     "name": "stdout",
     "output_type": "stream",
     "text": [
      "tensor([1.], device='cuda:0')\n"
     ]
    },
    {
     "name": "stderr",
     "output_type": "stream",
     "text": [
      "\r",
      " 10%|▉         | 29/300 [04:08<21:30,  4.76s/it]"
     ]
    },
    {
     "name": "stdout",
     "output_type": "stream",
     "text": [
      "tensor([1.], device='cuda:0')\n"
     ]
    },
    {
     "name": "stderr",
     "output_type": "stream",
     "text": [
      "\r",
      " 10%|█         | 30/300 [04:09<16:29,  3.67s/it]"
     ]
    },
    {
     "name": "stdout",
     "output_type": "stream",
     "text": [
      "tensor([1.], device='cuda:0')\n"
     ]
    },
    {
     "name": "stderr",
     "output_type": "stream",
     "text": [
      "\r",
      " 10%|█         | 31/300 [04:10<12:45,  2.85s/it]"
     ]
    },
    {
     "name": "stdout",
     "output_type": "stream",
     "text": [
      "tensor([1.], device='cuda:0')\n"
     ]
    },
    {
     "ename": "KeyboardInterrupt",
     "evalue": "",
     "output_type": "error",
     "traceback": [
      "\u001b[0;31m---------------------------------------------------------------------------\u001b[0m",
      "\u001b[0;31mKeyboardInterrupt\u001b[0m                         Traceback (most recent call last)",
      "\u001b[0;32m<ipython-input-12-07fefad0449c>\u001b[0m in \u001b[0;36m<module>\u001b[0;34m\u001b[0m\n\u001b[1;32m     47\u001b[0m \u001b[0;34m\u001b[0m\u001b[0m\n\u001b[1;32m     48\u001b[0m         \u001b[0;31m# Lines 9 - 11\u001b[0m\u001b[0;34m\u001b[0m\u001b[0;34m\u001b[0m\u001b[0;34m\u001b[0m\u001b[0m\n\u001b[0;32m---> 49\u001b[0;31m         \u001b[0moptimize_model\u001b[0m\u001b[0;34m(\u001b[0m\u001b[0;34m)\u001b[0m \u001b[0;31m# TODO\u001b[0m\u001b[0;34m\u001b[0m\u001b[0;34m\u001b[0m\u001b[0m\n\u001b[0m\u001b[1;32m     50\u001b[0m \u001b[0;34m\u001b[0m\u001b[0m\n\u001b[1;32m     51\u001b[0m         \u001b[0;31m# Additional tracking\u001b[0m\u001b[0;34m\u001b[0m\u001b[0;34m\u001b[0m\u001b[0;34m\u001b[0m\u001b[0m\n",
      "\u001b[0;32m<ipython-input-9-77355d9717ea>\u001b[0m in \u001b[0;36moptimize_model\u001b[0;34m()\u001b[0m\n\u001b[1;32m     36\u001b[0m     \u001b[0moptimizer_tw\u001b[0m\u001b[0;34m.\u001b[0m\u001b[0mzero_grad\u001b[0m\u001b[0;34m(\u001b[0m\u001b[0;34m)\u001b[0m\u001b[0;34m\u001b[0m\u001b[0;34m\u001b[0m\u001b[0m\n\u001b[1;32m     37\u001b[0m     \u001b[0mL_ra\u001b[0m\u001b[0;34m.\u001b[0m\u001b[0mbackward\u001b[0m\u001b[0;34m(\u001b[0m\u001b[0;34m)\u001b[0m\u001b[0;34m\u001b[0m\u001b[0;34m\u001b[0m\u001b[0m\n\u001b[0;32m---> 38\u001b[0;31m     \u001b[0moptimizer_tw\u001b[0m\u001b[0;34m.\u001b[0m\u001b[0mstep\u001b[0m\u001b[0;34m(\u001b[0m\u001b[0;34m)\u001b[0m\u001b[0;34m\u001b[0m\u001b[0;34m\u001b[0m\u001b[0m\n\u001b[0m\u001b[1;32m     39\u001b[0m \u001b[0;34m\u001b[0m\u001b[0m\n\u001b[1;32m     40\u001b[0m \u001b[0;34m\u001b[0m\u001b[0m\n",
      "\u001b[0;32m~/fastai/lib/python3.6/site-packages/torch/optim/adam.py\u001b[0m in \u001b[0;36mstep\u001b[0;34m(self, closure)\u001b[0m\n\u001b[1;32m     99\u001b[0m                     \u001b[0mdenom\u001b[0m \u001b[0;34m=\u001b[0m \u001b[0mmax_exp_avg_sq\u001b[0m\u001b[0;34m.\u001b[0m\u001b[0msqrt\u001b[0m\u001b[0;34m(\u001b[0m\u001b[0;34m)\u001b[0m\u001b[0;34m.\u001b[0m\u001b[0madd_\u001b[0m\u001b[0;34m(\u001b[0m\u001b[0mgroup\u001b[0m\u001b[0;34m[\u001b[0m\u001b[0;34m'eps'\u001b[0m\u001b[0;34m]\u001b[0m\u001b[0;34m)\u001b[0m\u001b[0;34m\u001b[0m\u001b[0;34m\u001b[0m\u001b[0m\n\u001b[1;32m    100\u001b[0m                 \u001b[0;32melse\u001b[0m\u001b[0;34m:\u001b[0m\u001b[0;34m\u001b[0m\u001b[0;34m\u001b[0m\u001b[0m\n\u001b[0;32m--> 101\u001b[0;31m                     \u001b[0mdenom\u001b[0m \u001b[0;34m=\u001b[0m \u001b[0mexp_avg_sq\u001b[0m\u001b[0;34m.\u001b[0m\u001b[0msqrt\u001b[0m\u001b[0;34m(\u001b[0m\u001b[0;34m)\u001b[0m\u001b[0;34m.\u001b[0m\u001b[0madd_\u001b[0m\u001b[0;34m(\u001b[0m\u001b[0mgroup\u001b[0m\u001b[0;34m[\u001b[0m\u001b[0;34m'eps'\u001b[0m\u001b[0;34m]\u001b[0m\u001b[0;34m)\u001b[0m\u001b[0;34m\u001b[0m\u001b[0;34m\u001b[0m\u001b[0m\n\u001b[0m\u001b[1;32m    102\u001b[0m \u001b[0;34m\u001b[0m\u001b[0m\n\u001b[1;32m    103\u001b[0m                 \u001b[0mbias_correction1\u001b[0m \u001b[0;34m=\u001b[0m \u001b[0;36m1\u001b[0m \u001b[0;34m-\u001b[0m \u001b[0mbeta1\u001b[0m \u001b[0;34m**\u001b[0m \u001b[0mstate\u001b[0m\u001b[0;34m[\u001b[0m\u001b[0;34m'step'\u001b[0m\u001b[0;34m]\u001b[0m\u001b[0;34m\u001b[0m\u001b[0;34m\u001b[0m\u001b[0m\n",
      "\u001b[0;31mKeyboardInterrupt\u001b[0m: "
     ]
    }
   ],
   "source": [
    "global i_episode\n",
    "for i_episode in tqdm(range(num_episodes)): # Line 2\n",
    "    R = 0\n",
    "    if(BATCH_SIZE>2):\n",
    "        BATCH_SIZE = BATCH_SIZE // 2\n",
    "    \n",
    "    # Initialize the environment and state: Line 3\n",
    "#     env.seed(0)\n",
    "    env.reset() # <TODO: random initial location>\n",
    "    state = get_screen(env)\n",
    "#     state = env.reset()\n",
    "#     state = state2screen(state)\n",
    "    for t in count(): # Line 4\n",
    "#         print(t, action)\n",
    "        \n",
    "        # Find abstracted states: Line 5\n",
    "        phi = tnet(state)\n",
    "        \n",
    "        # Select an action: Line 6\n",
    "        action = select_action(phi, wnet.head.weight.data.view(-1,1))\n",
    "        actions.append(action.item())\n",
    "        \n",
    "        # Perform an action: Line 7\n",
    "        _, reward, done, _ = env.step(action.item())\n",
    "#         next_state = state2screen(next_state)\n",
    "        done = torch.tensor([done], device=device)\n",
    "        if(reward > 0):\n",
    "            reward = 1\n",
    "        R = R + reward\n",
    "        reward = torch.tensor([reward], device=device).float()\n",
    "        next_state = get_screen(env)\n",
    "        \n",
    "        # Store the transition in memory: Line 8\n",
    "        if(reward<=0):\n",
    "            memory.push(state, action, next_state, reward, done)\n",
    "        else:\n",
    "            memory_win.push(state, action, next_state, reward, done)\n",
    "            memory.push(state, action, next_state, reward, done)  \n",
    "            print(reward)\n",
    "            ed.append(t+1)\n",
    "            R_eps.append(R)\n",
    "            eps_vec.append(eps_threshold)\n",
    "            break\n",
    "            \n",
    "        # Move to the next state\n",
    "        state = next_state\n",
    "\n",
    "        # Lines 9 - 11\n",
    "        optimize_model() # TODO\n",
    "        \n",
    "        # Additional tracking\n",
    "        if done:\n",
    "            ed.append(t+1)\n",
    "            R_eps.append(R)\n",
    "            eps_vec.append(eps_threshold)\n",
    "            break\n",
    "            \n",
    "    if i_episode % TARGET_UPDATE == 0:\n",
    "        anet_target.load_state_dict(anet.state_dict())\n",
    "        \n",
    "    if eps_threshold < 1.1*EPS_END:\n",
    "        break\n",
    "        "
   ]
  },
  {
   "cell_type": "code",
   "execution_count": null,
   "metadata": {},
   "outputs": [],
   "source": [
    "%debug"
   ]
  },
  {
   "cell_type": "code",
   "execution_count": null,
   "metadata": {},
   "outputs": [],
   "source": [
    "# plt.figure(figsize=(14,6))\n",
    "# plt.errorbar(np.arange(len(eval_r_mean)), eval_r_mean, eval_r_std, linestyle='None', marker='^')\n",
    "# plt.title('evaluation rewards as training progresses')"
   ]
  },
  {
   "cell_type": "code",
   "execution_count": 13,
   "metadata": {},
   "outputs": [
    {
     "data": {
      "image/png": "[encoded data removed]",
      "text/plain": [
       "<Figure size 1296x648 with 7 Axes>"
      ]
     },
     "metadata": {
      "needs_background": "light"
     },
     "output_type": "display_data"
    },
    {
     "name": "stdout",
     "output_type": "stream",
     "text": [
      "number of wins:  31\n"
     ]
    }
   ],
   "source": [
    "def visualize_results():\n",
    "    plt.figure(figsize=(18,9))\n",
    "    plt.subplot(3,3,1); plt.plot(ed); plt.title('ep_length');\n",
    "    plt.subplot(3,3,2); plt.plot(R_eps); plt.title('R'); \n",
    "    plt.subplot(3,3,3); plt.plot(eps_vec); plt.title('eps values'); \n",
    "    plt.subplot(3,3,4); plt.plot(L_r_vec[:]); plt.title('reward loss'); \n",
    "    plt.subplot(3,3,5); plt.plot(L_m_vec[:]); plt.title('SR loss'); \n",
    "    plt.subplot(3,3,6); plt.plot(L_a_vec[:]); plt.title('reconstruction loss'); \n",
    "    plt.subplot(3,3,7); plt.plot(np.cumsum(ed)); plt.title('cumm episode steps'); plt.show()\n",
    "\n",
    "visualize_results()\n",
    "print('number of wins: ', len(memory_win))"
   ]
  },
  {
   "cell_type": "code",
   "execution_count": null,
   "metadata": {},
   "outputs": [],
   "source": [
    "plt.figure(figsize=(18,6))\n",
    "plt.plot(actions); plt.title('sanity check for actions')"
   ]
  },
  {
   "cell_type": "markdown",
   "metadata": {},
   "source": [
    "### Sanity checks"
   ]
  },
  {
   "cell_type": "code",
   "execution_count": null,
   "metadata": {},
   "outputs": [],
   "source": [
    "\n",
    "def visualize_samples_from_memory(memory, batchsize=4):\n",
    "    k = memory.sample(4)\n",
    "    plt.figure(figsize=(6,6))\n",
    "    for i in range(4):\n",
    "        plt.subplot(2,2,i+1)\n",
    "        plt.imshow(k[0][i].next_state.cpu().squeeze(0).permute(1,2,0).numpy())\n",
    "        plt.title('R = {}'.format(k[0][i].reward.cpu().numpy()[0]))\n",
    "    plt.show()\n",
    "    \n",
    "visualize_samples_from_memory(memory)\n",
    "visualize_samples_from_memory(memory_win)"
   ]
  },
  {
   "cell_type": "code",
   "execution_count": null,
   "metadata": {},
   "outputs": [],
   "source": [
    "def find_qvalues(i):\n",
    "    state_matrix = torch.load('state_matrix_3x3.pt')\n",
    "#     print(anet(tnet(state_matrix[i,:,:,:].unsqueeze(0))).shape)\n",
    "    print(anet(tnet(state_matrix[i,:,:,:].unsqueeze(0))).squeeze(0).matmul(wnet.head.weight.data.squeeze(0)))\n",
    "\n",
    "find_qvalues(23)"
   ]
  },
  {
   "cell_type": "code",
   "execution_count": null,
   "metadata": {
    "scrolled": false
   },
   "outputs": [],
   "source": [
    "def sanity_check():\n",
    "#     env.seed(0)\n",
    "    env.reset()\n",
    "    eps_threshold = 1\n",
    "    iterations = 15\n",
    "    plt.figure(figsize=(15,10), dpi=200)\n",
    "    R = 0\n",
    "    for i in range(iterations):\n",
    "        plt.subplot(5,6,2*i+1)\n",
    "        plt.imshow(env.render(mode='rgb_array')); \n",
    "        plt.subplot(5,6,2*i+2)\n",
    "        plt.imshow(tnet2(tnet(get_screen(env))).cpu().squeeze(0).permute(1,2,0).detach().numpy());\n",
    "        state = get_screen(env)\n",
    "        plt.title('R = {0:.2f}, i = {1:.0f}'.format(wnet(tnet(state)).detach().cpu().numpy()[0,0], i))\n",
    "        action = select_action(tnet(state), wnet.head.weight.data.view(-1,1), greedy=True)\n",
    "#         action = np.random.randint(low=0, high=3)\n",
    "        print('iteration: {}, action: {}, R: {}, i: {}'.format(i, action.item(), R, i))\n",
    "        print(wnet(tnet(state)))\n",
    "#         print(anet(tnet(state)).matmul(wnet.head.weight.data.view(-1,1)).detach().cpu().numpy())\n",
    "        _, R, done, _ = env.step(action)\n",
    "        if(done):\n",
    "            print('SOLVED!')\n",
    "            break\n",
    "    plt.show()\n",
    "sanity_check()"
   ]
  },
  {
   "cell_type": "code",
   "execution_count": null,
   "metadata": {},
   "outputs": [],
   "source": [
    "a, b = evaluate(10)\n",
    "print(a)"
   ]
  },
  {
   "cell_type": "code",
   "execution_count": null,
   "metadata": {},
   "outputs": [],
   "source": [
    "plt.imshow(env.render(mode='rgb_array'))"
   ]
  },
  {
   "cell_type": "code",
   "execution_count": null,
   "metadata": {},
   "outputs": [],
   "source": [
    "def save_models(label=\"tmp\"):\n",
    "    torch.save(tnet.state_dict(), label+\"tnet\"+\".pt\")\n",
    "    torch.save(tnet2.state_dict(), label+\"tnet2\"+\".pt\")\n",
    "    torch.save(anet.state_dict(), label+\"anet\"+\".pt\")\n",
    "    torch.save(wnet.state_dict(), label+\"wnet\"+\".pt\")\n",
    "    \n",
    "# save_models()"
   ]
  },
  {
   "cell_type": "code",
   "execution_count": null,
   "metadata": {},
   "outputs": [],
   "source": [
    "def reward_sanity_check():\n",
    "    state_matrix = torch.load('state_matrix_3x3.pt')\n",
    "    reward_est = wnet(tnet(state_matrix)).squeeze(1)\n",
    "    reward_est = reward_est.detach().cpu().numpy()\n",
    "    error_0 = np.mean(np.abs(reward_est[:32]-np.zeros(32)))\n",
    "    error_1 = np.mean(np.abs(reward_est[34:]-np.ones(2)))\n",
    "    print('0-reward error: {0:2.3f}, 1-reward error: {1:2.3f}'.format(error_0, error_1))\n",
    "    print('reward estimates: ', reward_est)\n",
    "    \n",
    "reward_sanity_check()"
   ]
  },
  {
   "cell_type": "code",
   "execution_count": null,
   "metadata": {},
   "outputs": [],
   "source": [
    "# warnings.simplefilter(\"once\")\n",
    "def reconstruction_sanity_check():\n",
    "    state_matrix = torch.load('state_matrix_3x3.pt')\n",
    "    state_r = tnet2(tnet(state_matrix))\n",
    "    plt.figure(figsize=(18,18), dpi=100)\n",
    "    for i in range(36):\n",
    "        plt.subplot(12,8,2*i+1)\n",
    "        plt.imshow(state_matrix.detach().cpu()[i,:,:,:].squeeze(0).permute(1,2,0).numpy())\n",
    "        plt.subplot(12,8,2*i+2)\n",
    "        plt.imshow(state_r.detach().cpu()[i,:,:,:].squeeze(0).permute(1,2,0).numpy())\n",
    "    plt.show()\n",
    "    \n",
    "reconstruction_sanity_check()"
   ]
  },
  {
   "cell_type": "code",
   "execution_count": null,
   "metadata": {},
   "outputs": [],
   "source": [
    "\n",
    "def SR_sanity_check(): # this needs to fail, would be correct for incorrect implementations\n",
    "    \n",
    "    state_matrix = torch.load('state_matrix_3x3.pt')\n",
    "    \n",
    "    phi = tnet(state_matrix)\n",
    "    exp1 = GAMMA * phi[35,:].detach().cpu().numpy()\n",
    "    exp2 = GAMMA * phi[34,:].detach().cpu().numpy()\n",
    "    \n",
    "    M = anet(tnet(state_matrix))\n",
    "    est1 = M[23,2,:].detach().cpu().numpy()\n",
    "    est2 = M[30,2,:].detach().cpu().numpy()\n",
    "    \n",
    "    plt.figure(figsize=(18,6))\n",
    "    plt.plot(exp1);\n",
    "    plt.plot(est1); plt.show()\n",
    "    plt.figure(figsize=(18,6))\n",
    "    plt.plot(exp2);\n",
    "    plt.plot(est2); plt.show()\n",
    "    \n",
    "    print('error1: {}, error2: {}'.format(np.mean(np.abs(exp1-est1)),np.mean(np.abs(exp2-est2))))\n",
    "    \n",
    "    pass\n",
    "\n",
    "SR_sanity_check()"
   ]
  }
 ],
 "metadata": {
  "kernelspec": {
   "display_name": "Python 3",
   "language": "python",
   "name": "python3"
  },
  "language_info": {
   "codemirror_mode": {
    "name": "ipython",
    "version": 3
   },
   "file_extension": ".py",
   "mimetype": "text/x-python",
   "name": "python",
   "nbconvert_exporter": "python",
   "pygments_lexer": "ipython3",
   "version": "3.6.8"
  }
 },
 "nbformat": 4,
 "nbformat_minor": 2
}
