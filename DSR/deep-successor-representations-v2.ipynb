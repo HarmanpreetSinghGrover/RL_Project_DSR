{
 "cells": [
  {
   "cell_type": "markdown",
   "metadata": {
    "heading_collapsed": true
   },
   "source": [
    "### Description of notebook"
   ]
  },
  {
   "cell_type": "markdown",
   "metadata": {
    "hidden": true
   },
   "source": [
    "In this notebook, I implement Deep Successor Reinforcement Learning by Tejas D. Kulkarni, Ardavan Saeedi, Simanta Gautam, Samuel J. Gershman. ([link](https://arxiv.org/abs/1606.02396))"
   ]
  },
  {
   "cell_type": "markdown",
   "metadata": {
    "heading_collapsed": true
   },
   "source": [
    "### Loading required libraries"
   ]
  },
  {
   "cell_type": "code",
   "execution_count": 1,
   "metadata": {
    "hidden": true
   },
   "outputs": [],
   "source": [
    "import torch\n",
    "import torch.nn as nn\n",
    "import torch.optim as optim\n",
    "import torch.nn.functional as F\n",
    "import torchvision.transforms as T\n",
    "from torch.utils.data import Dataset, DataLoader\n",
    "\n",
    "import gym\n",
    "import math\n",
    "import random\n",
    "import numpy as np\n",
    "import matplotlib\n",
    "%matplotlib inline\n",
    "import matplotlib.pyplot as plt\n",
    "from collections import namedtuple\n",
    "from itertools import count\n",
    "from PIL import Image\n",
    "from skimage.transform import resize\n",
    "\n",
    "# if gpu is to be used\n",
    "device = torch.device(\"cuda\" if torch.cuda.is_available() else \"cpu\")"
   ]
  },
  {
   "cell_type": "markdown",
   "metadata": {
    "heading_collapsed": true
   },
   "source": [
    "### Testing the environment"
   ]
  },
  {
   "cell_type": "code",
   "execution_count": 2,
   "metadata": {
    "hidden": true
   },
   "outputs": [
    {
     "name": "stdout",
     "output_type": "stream",
     "text": [
      "68 environments registered\n",
      "testing \"MiniGrid-Empty-5x5-v0\"\n",
      "testing agent_sees method\n"
     ]
    }
   ],
   "source": [
    "import random\n",
    "import numpy as np\n",
    "import gym\n",
    "from gym_minigrid.register import env_list\n",
    "from gym_minigrid.minigrid import Grid, OBJECT_TO_IDX\n",
    "\n",
    "# Test specifically importing a specific environment\n",
    "from gym_minigrid.envs import DoorKeyEnv\n",
    "\n",
    "# Test importing wrappers\n",
    "from gym_minigrid.wrappers import *\n",
    "\n",
    "##############################################################################\n",
    "\n",
    "print('%d environments registered' % len(env_list))\n",
    "\n",
    "for env_name in env_list:\n",
    "    print('testing \"%s\"' % env_name)\n",
    "\n",
    "    # Load the gym environment\n",
    "    env = gym.make(env_name)\n",
    "    env.max_steps = min(env.max_steps, 200)\n",
    "    env.reset()\n",
    "    env.render('rgb_array')\n",
    "\n",
    "    # Verify that the same seed always produces the same environment\n",
    "    for i in range(0, 5):\n",
    "        seed = 1337 + i\n",
    "        env.seed(seed)\n",
    "        grid1 = env.grid\n",
    "        env.seed(seed)\n",
    "        grid2 = env.grid\n",
    "        assert grid1 == grid2\n",
    "\n",
    "    env.reset()\n",
    "    \n",
    "    break\n",
    "\n",
    "    # Run for a few episodes\n",
    "    num_episodes = 0\n",
    "    while num_episodes < 5:\n",
    "        # Pick a random action\n",
    "        action = random.randint(0, env.action_space.n - 1)\n",
    "\n",
    "        obs, reward, done, info = env.step(action)\n",
    "\n",
    "        # Validate the agent position\n",
    "        assert env.agent_pos[0] < env.width\n",
    "        assert env.agent_pos[1] < env.height\n",
    "\n",
    "        # Test observation encode/decode roundtrip\n",
    "        img = obs['image']\n",
    "        vis_mask = img[:, :, 0] != OBJECT_TO_IDX['unseen']  # hackish\n",
    "        img2 = Grid.decode(img).encode(vis_mask=vis_mask)\n",
    "        assert np.array_equal(img, img2)\n",
    "\n",
    "        # Test the env to string function\n",
    "        str(env)\n",
    "\n",
    "        # Check that the reward is within the specified range\n",
    "        assert reward >= env.reward_range[0], reward\n",
    "        assert reward <= env.reward_range[1], reward\n",
    "\n",
    "        if done:\n",
    "            num_episodes += 1\n",
    "            env.reset()\n",
    "\n",
    "        env.render('rgb_array')\n",
    "        break\n",
    "\n",
    "    # Test the close method\n",
    "    env.close()\n",
    "\n",
    "    env = gym.make(env_name)\n",
    "    env = ReseedWrapper(env)\n",
    "    for _ in range(10):\n",
    "        env.reset()\n",
    "        env.step(0)\n",
    "        env.close()\n",
    "\n",
    "    env = gym.make(env_name)\n",
    "    env = ImgObsWrapper(env)\n",
    "    env.reset()\n",
    "    env.step(0)\n",
    "    env.close()\n",
    "\n",
    "    # Test the fully observable wrapper\n",
    "    env = gym.make(env_name)\n",
    "    env = FullyObsWrapper(env)\n",
    "    env.reset()\n",
    "    obs, _, _, _ = env.step(0)\n",
    "    assert obs.shape == env.observation_space.shape\n",
    "    env.close()\n",
    "\n",
    "    env = gym.make(env_name)\n",
    "    env = FlatObsWrapper(env)\n",
    "    env.reset()\n",
    "    env.step(0)\n",
    "    env.close()\n",
    "\n",
    "    env = gym.make(env_name)\n",
    "    env = AgentViewWrapper(env, 5)\n",
    "    env.reset()\n",
    "    env.step(0)\n",
    "    env.close()\n",
    "\n",
    "##############################################################################\n",
    "\n",
    "print('testing agent_sees method')\n",
    "env = gym.make('MiniGrid-DoorKey-6x6-v0')\n",
    "goal_pos = (env.grid.width - 2, env.grid.height - 2)\n",
    "\n",
    "# Test the \"in\" operator on grid objects\n",
    "assert ('green', 'goal') in env.grid\n",
    "assert ('blue', 'key') not in env.grid\n",
    "\n",
    "# Test the env.agent_sees() function\n",
    "env.reset()\n",
    "for i in range(0, 500):\n",
    "    action = random.randint(0, env.action_space.n - 1)\n",
    "    obs, reward, done, info = env.step(action)\n",
    "    goal_visible = ('green', 'goal') in Grid.decode(obs['image'])\n",
    "    agent_sees_goal = env.agent_sees(*goal_pos)\n",
    "    assert agent_sees_goal == goal_visible\n",
    "    if done:\n",
    "        env.reset()\n",
    "        break"
   ]
  },
  {
   "cell_type": "markdown",
   "metadata": {
    "heading_collapsed": true
   },
   "source": [
    "### Testing the envir"
   ]
  },
  {
   "cell_type": "code",
   "execution_count": 3,
   "metadata": {
    "hidden": true
   },
   "outputs": [
    {
     "data": {
      "image/png": "[encoded data removed]",
      "text/plain": [
       "<Figure size 432x288 with 1 Axes>"
      ]
     },
     "metadata": {
      "needs_background": "light"
     },
     "output_type": "display_data"
    }
   ],
   "source": [
    "env = gym.make('MiniGrid-Empty-Random-6x6-v0')\n",
    "# env.seed(108)\n",
    "obs = env.reset()\n",
    "# print(env.render(mode='rgb_array'))\n",
    "\n",
    "plt.imshow(env.render(mode='rgb_array')); plt.show()\n"
   ]
  },
  {
   "cell_type": "code",
   "execution_count": 4,
   "metadata": {
    "hidden": true
   },
   "outputs": [
    {
     "name": "stdout",
     "output_type": "stream",
     "text": [
      "0 False\n"
     ]
    },
    {
     "data": {
      "image/png": "[encoded data removed]",
      "text/plain": [
       "<Figure size 432x288 with 1 Axes>"
      ]
     },
     "metadata": {
      "needs_background": "light"
     },
     "output_type": "display_data"
    },
    {
     "data": {
      "image/png": "[encoded data removed]",
      "text/plain": [
       "<Figure size 432x288 with 1 Axes>"
      ]
     },
     "metadata": {
      "needs_background": "light"
     },
     "output_type": "display_data"
    }
   ],
   "source": [
    "_, R, done, _ = env.step(env.action_space.sample())\n",
    "print(R,done)\n",
    "plt.imshow(resize(env.render(mode='rgb_array'), (80,80), anti_aliasing=False)); plt.show()\n",
    "plt.imshow(env.render(mode='rgb_array')); plt.show()"
   ]
  },
  {
   "cell_type": "markdown",
   "metadata": {},
   "source": [
    "### Implementing neural network in torch for FA"
   ]
  },
  {
   "cell_type": "code",
   "execution_count": 5,
   "metadata": {},
   "outputs": [],
   "source": [
    "class thetaNet(nn.Module):\n",
    "\n",
    "    def __init__(self, h=80, w=80, outputs=16):\n",
    "        super(thetaNet, self).__init__()\n",
    "        self.conv1 = nn.Conv2d(3, 8, kernel_size=5, stride=2)\n",
    "        self.bn1 = nn.BatchNorm2d(8)\n",
    "        self.conv2 = nn.Conv2d(8, 16, kernel_size=5, stride=2)\n",
    "        self.bn2 = nn.BatchNorm2d(16)\n",
    "        self.conv3 = nn.Conv2d(16, 16, kernel_size=5, stride=2)\n",
    "        self.bn3 = nn.BatchNorm2d(16)\n",
    "\n",
    "        # Number of Linear input connections depends on output of conv2d layers\n",
    "        # and therefore the input image size, so compute it.\n",
    "        def conv2d_size_out(size, kernel_size = 5, stride = 2):\n",
    "            return (size - (kernel_size - 1) - 1) // stride  + 1\n",
    "        convw = conv2d_size_out(conv2d_size_out(conv2d_size_out(w)))\n",
    "        convh = conv2d_size_out(conv2d_size_out(conv2d_size_out(h)))\n",
    "        linear_input_size = convw * convh * 16\n",
    "        self.head = nn.Linear(linear_input_size, outputs)\n",
    "\n",
    "    # Called with either one element to determine next action, or a batch\n",
    "    # during optimization. Returns tensor([[left0exp,right0exp]...]).\n",
    "    def forward(self, x):\n",
    "        x = F.relu(self.bn1(self.conv1(x)))\n",
    "        x = F.relu(self.bn2(self.conv2(x)))\n",
    "        x = F.relu(self.bn3(self.conv3(x)))\n",
    "        return self.head(x.view(x.size(0), -1))\n",
    "    \n",
    "class theta2Net(nn.Module): # decoder for thetaNet\n",
    "    \n",
    "    \n",
    "    \n",
    "    def forward(self, x):\n",
    "        return x\n",
    "    \n",
    "class alphaNet(nn.Module):\n",
    "\n",
    "    def __init__(self, in_size=16, actions=3):\n",
    "        super(alphaNet, self).__init__()\n",
    "        self.head11 = nn.Linear(in_size, in_size)\n",
    "        self.head12 = nn.Linear(in_size, in_size)\n",
    "        self.head21 = nn.Linear(in_size, in_size)\n",
    "        self.head22 = nn.Linear(in_size, in_size)\n",
    "        self.head31 = nn.Linear(in_size, in_size)\n",
    "        self.head32 = nn.Linear(in_size, in_size)\n",
    "        self.actions = actions\n",
    "\n",
    "    # Called with either one element to determine next action, or a batch\n",
    "    # during optimization. Returns tensor([[left0exp,right0exp]...]).\n",
    "    def forward(self, x):\n",
    "        x1 = F.relu(self.head12(F.relu(self.head11(x))))\n",
    "        x2 = F.relu(self.head22(F.relu(self.head11(x))))\n",
    "        x3 = F.relu(self.head32(F.relu(self.head11(x))))\n",
    "        x = torch.cat((x1, x2, x3), 1)\n",
    "        return x.view(x.size(0), self.actions, -1)\n",
    "    \n",
    "class wNet(nn.Module):\n",
    "\n",
    "    def __init__(self, in_size=16):\n",
    "        super(wNet, self).__init__()\n",
    "        self.head = nn.Linear(in_size, 1)\n",
    "\n",
    "    # Called with either one element to determine next action, or a batch\n",
    "    # during optimization. Returns tensor([[left0exp,right0exp]...]).\n",
    "    def forward(self, x):\n",
    "        return self.head(x)"
   ]
  },
  {
   "cell_type": "markdown",
   "metadata": {
    "heading_collapsed": true
   },
   "source": [
    "### Implementing replay memory"
   ]
  },
  {
   "cell_type": "code",
   "execution_count": 6,
   "metadata": {
    "hidden": true
   },
   "outputs": [],
   "source": [
    "Transition = namedtuple('Transition',\n",
    "                        ('state', 'action', 'next_state', 'reward'))\n",
    "\n",
    "\n",
    "class ReplayMemory(object):\n",
    "\n",
    "    def __init__(self, capacity):\n",
    "        self.capacity = capacity\n",
    "        self.memory = []\n",
    "        self.position = 0\n",
    "\n",
    "    def push(self, *args):\n",
    "        \"\"\"Saves a transition.\"\"\"\n",
    "        if len(self.memory) < self.capacity:\n",
    "            self.memory.append(None)\n",
    "        self.memory[self.position] = Transition(*args)\n",
    "        self.position = (self.position + 1) % self.capacity\n",
    "\n",
    "    def sample(self, batch_size):\n",
    "        return random.sample(self.memory, batch_size)\n",
    "\n",
    "    def __len__(self):\n",
    "        return len(self.memory)"
   ]
  },
  {
   "cell_type": "markdown",
   "metadata": {},
   "source": [
    "### Setting up networks and optimization procedures"
   ]
  },
  {
   "cell_type": "code",
   "execution_count": 7,
   "metadata": {},
   "outputs": [],
   "source": [
    "tnet = thetaNet().to(device); anet = alphaNet().to(device); wnet = wNet().to(device); \n",
    "anet_target = alphaNet().to(device); anet_target.load_state_dict(anet.state_dict()); anet_target.eval()\n",
    "\n",
    "tw_params = list(tnet.parameters()) + list(wnet.parameters())\n",
    "ta_params = list(tnet.parameters()) + list(anet.parameters())\n",
    "optimizer1 = optim.Adam(tw_params, lr=0.005)\n",
    "optimizer2 = optim.Adam(anet.parameters(), lr=0.005)\n",
    "memory = ReplayMemory(1000)"
   ]
  },
  {
   "cell_type": "markdown",
   "metadata": {},
   "source": [
    "### Creating select action method"
   ]
  },
  {
   "cell_type": "code",
   "execution_count": 8,
   "metadata": {},
   "outputs": [],
   "source": [
    "steps_done = 0\n",
    "BATCH_SIZE = 128\n",
    "GAMMA = 0.999\n",
    "EPS_START = 1\n",
    "EPS_END = 0.05\n",
    "EPS_DECAY = 2000\n",
    "TARGET_UPDATE = 10\n",
    "eps_threshold = 1\n",
    "EXPLORE_FOR = 1000\n",
    "\n",
    "def select_action(phi, w):\n",
    "    global steps_done\n",
    "    global eps_threshold\n",
    "    sample = random.random()\n",
    "    if(steps_done > EXPLORE_FOR):\n",
    "        eps_threshold = EPS_END + (EPS_START - EPS_END) * \\\n",
    "            math.exp(-1. * steps_done / EPS_DECAY)\n",
    "    steps_done += 1\n",
    "    if sample > eps_threshold:\n",
    "        with torch.no_grad():\n",
    "            # t.max(1) will return largest column value of each row.\n",
    "            # second column on max result is index of where max element was\n",
    "            # found, so we pick action with the larger expected reward.\n",
    "#             return policy_net(state).max(1)[1].view(1, 1)\n",
    "            aout = anet(phi)\n",
    "            return aout.matmul(w).max(1)[1] #maybe add .view(1,1)\n",
    "    else:\n",
    "#         import pdb; pdb.set_trace();\n",
    "        return torch.tensor([[random.randrange(n_actions)]], device=device, dtype=torch.long)"
   ]
  },
  {
   "cell_type": "markdown",
   "metadata": {},
   "source": [
    "### Setting up environment"
   ]
  },
  {
   "cell_type": "code",
   "execution_count": 9,
   "metadata": {},
   "outputs": [],
   "source": [
    "def get_screen(env):\n",
    "    k = env.render(mode='rgb_array')\n",
    "    k = resize(k, (80,80), anti_aliasing=False)\n",
    "    k = torch.Tensor(k)\n",
    "    k = k.permute(2,1,0).unsqueeze(0)\n",
    "    k = k.to(device)\n",
    "    return k"
   ]
  },
  {
   "cell_type": "code",
   "execution_count": 10,
   "metadata": {},
   "outputs": [
    {
     "name": "stdout",
     "output_type": "stream",
     "text": [
      "(256, 256, 3)\n"
     ]
    },
    {
     "data": {
      "text/plain": [
       "<matplotlib.image.AxesImage at 0x7f9cd146dd30>"
      ]
     },
     "execution_count": 10,
     "metadata": {},
     "output_type": "execute_result"
    },
    {
     "data": {
      "image/png": "[encoded data removed]",
      "text/plain": [
       "<Figure size 432x288 with 1 Axes>"
      ]
     },
     "metadata": {
      "needs_background": "light"
     },
     "output_type": "display_data"
    }
   ],
   "source": [
    "from gym_minigrid.envs import EmptyEnv\n",
    "\n",
    "\n",
    "env = EmptyEnv()\n",
    "k = env.render(mode='rgb_array')\n",
    "print(k.shape)\n",
    "plt.imshow(resize(k, (80,80), anti_aliasing=False))"
   ]
  },
  {
   "cell_type": "markdown",
   "metadata": {},
   "source": [
    "### Optimization function"
   ]
  },
  {
   "cell_type": "code",
   "execution_count": 11,
   "metadata": {},
   "outputs": [],
   "source": [
    "loss = nn.MSELoss()\n",
    "L_r_vec = []\n",
    "L_m_vec = []\n",
    "def optimize_model():\n",
    "    if len(memory) < BATCH_SIZE:\n",
    "        return\n",
    "    transitions = memory.sample(BATCH_SIZE)\n",
    "    # Transpose the batch (see https://stackoverflow.com/a/19343/3343043 for\n",
    "    # detailed explanation). This converts batch-array of Transitions\n",
    "    # to Transition of batch-arrays.\n",
    "    batch = Transition(*zip(*transitions))\n",
    "\n",
    "    # Compute a mask of non-final states and concatenate the batch elements\n",
    "    # (a final state would've been the one after which simulation ended)\n",
    "    non_final_mask = torch.tensor(tuple(map(lambda s: s is not None,\n",
    "                                          batch.next_state)), device=device, dtype=torch.uint8)\n",
    "    non_final_next_states = torch.cat([s for s in batch.next_state\n",
    "                                                if s is not None])\n",
    "    state_batch = torch.cat(batch.state)\n",
    "    action_batch = torch.cat(batch.action)\n",
    "    reward_batch = torch.cat(batch.reward)\n",
    "    \n",
    "    \n",
    "#     import pdb; pdb.set_trace()\n",
    "    \n",
    "    # Computing the reward loss L_r\n",
    "    L_r = F.smooth_l1_loss(reward_batch, wnet(tnet(state_batch)).squeeze(1))\n",
    "    L_r_vec.append(L_r.item())\n",
    "    \n",
    "    # Optimize the model\n",
    "    optimizer1.zero_grad()\n",
    "    L_r.backward()\n",
    "#     for param in policy_net.parameters():\n",
    "#         param.grad.data.clamp_(-1, 1)\n",
    "    optimizer1.step()\n",
    "    \n",
    "    # Computing the SF loss\n",
    "    U_observed = anet(tnet(state_batch))[torch.arange(0, BATCH_SIZE),action_batch.squeeze(),:]\n",
    "    \n",
    "    action_max = anet(tnet(state_batch)).matmul(wnet.head.weight.data.view(-1,1)).max(1)[1]\n",
    "    U_estimated = anet_target(tnet(state_batch))[torch.arange(0, BATCH_SIZE),action_max.squeeze(),:] \n",
    "    \n",
    "    L_m = loss(U_observed, U_estimated)\n",
    "    L_m_vec.append(L_m.item())\n",
    "    \n",
    "    # Optimize the model\n",
    "    optimizer2.zero_grad()\n",
    "    L_m.backward()\n",
    "#     for param in policy_net.parameters():\n",
    "#         param.grad.data.clamp_(-1, 1)\n",
    "    optimizer2.step()\n",
    "\n",
    "    # Compute Q(s_t, a) - the model computes Q(s_t), then we select the\n",
    "    # columns of actions taken. These are the actions which would've been taken\n",
    "    # for each batch state according to policy_net\n",
    "#     state_action_values = policy_net(state_batch).gather(1, action_batch)\n",
    "\n",
    "    # Compute V(s_{t+1}) for all next states.\n",
    "    # Expected values of actions for non_final_next_states are computed based\n",
    "    # on the \"older\" target_net; selecting their best reward with max(1)[0].\n",
    "    # This is merged based on the mask, such that we'll have either the expected\n",
    "    # state value or 0 in case the state was final.\n",
    "#     next_state_values = torch.zeros(BATCH_SIZE, device=device)\n",
    "#     next_state_values[non_final_mask] = target_net(non_final_next_states).max(1)[0].detach()\n",
    "    # Compute the expected Q values\n",
    "#     expected_state_action_values = (next_state_values * GAMMA) + reward_batch\n",
    "\n",
    "    # Compute Huber loss\n",
    "#     loss = F.smooth_l1_loss(state_action_values, expected_state_action_values.unsqueeze(1))\n",
    "\n",
    "    "
   ]
  },
  {
   "cell_type": "markdown",
   "metadata": {},
   "source": [
    "### Main code"
   ]
  },
  {
   "cell_type": "code",
   "execution_count": 12,
   "metadata": {},
   "outputs": [
    {
     "name": "stdout",
     "output_type": "stream",
     "text": [
      "episode: 2/100, time=256, reward=0, eps=1\n",
      "episode: 3/100, time=150, reward=0.47265625, eps=1\n",
      "episode: 4/100, time=136, reward=0.521875, eps=1\n",
      "episode: 5/100, time=82, reward=0.71171875, eps=1\n",
      "episode: 6/100, time=113, reward=0.602734375, eps=1\n",
      "episode: 7/100, time=256, reward=0, eps=0.5590071097840833\n",
      "episode: 8/100, time=256, reward=0, eps=0.4978516255521743\n",
      "episode: 9/100, time=185, reward=0.349609375, eps=0.45828358106379125\n",
      "episode: 10/100, time=19, reward=0.933203125, eps=0.45442325263655764\n",
      "episode: 11/100, time=87, reward=0.694140625, eps=0.43720798770559577\n",
      "episode: 12/100, time=142, reward=0.50078125, eps=0.41066948487517163\n",
      "episode: 13/100, time=83, reward=0.708203125, eps=0.39600803059294715\n",
      "episode: 14/100, time=99, reward=0.6519531249999999, eps=0.37929762747194656\n",
      "episode: 15/100, time=90, reward=0.68359375, eps=0.36480770263679513\n",
      "episode: 16/100, time=256, reward=0, eps=0.3269846209457465\n",
      "episode: 17/100, time=256, reward=0, eps=0.29370585471021327\n",
      "episode: 18/100, time=256, reward=0, eps=0.26442541978411477\n",
      "episode: 19/100, time=167, reward=0.41289062499999996, eps=0.24724803241514537\n",
      "episode: 20/100, time=74, reward=0.7398437499999999, eps=0.24008322158303214\n",
      "episode: 21/100, time=165, reward=0.419921875, eps=0.22503080457832542\n",
      "episode: 22/100, time=256, reward=0, eps=0.20400144486264543\n",
      "episode: 23/100, time=122, reward=0.57109375, eps=0.19488813828586055\n",
      "episode: 24/100, time=79, reward=0.7222656249999999, eps=0.18927661402383267\n",
      "episode: 25/100, time=76, reward=0.7328125, eps=0.1840833986842524\n",
      "episode: 26/100, time=256, reward=0, eps=0.16797373141953797\n",
      "episode: 27/100, time=256, reward=0, eps=0.15379958623978313\n",
      "episode: 28/100, time=172, reward=0.39531249999999996, eps=0.14524590153666356\n",
      "episode: 29/100, time=14, reward=0.95078125, eps=0.14458150831511907\n",
      "episode: 30/100, time=118, reward=0.58515625, eps=0.13916262812575125\n",
      "episode: 31/100, time=118, reward=0.58515625, eps=0.13405421308998294\n",
      "episode: 32/100, time=209, reward=0.265234375, eps=0.12571391676732435\n",
      "episode: 33/100, time=215, reward=0.244140625, eps=0.11799689107152818\n",
      "episode: 34/100, time=54, reward=0.81015625, eps=0.11618553831317775\n",
      "episode: 35/100, time=119, reward=0.5816406249999999, eps=0.11236236600853984\n",
      "episode: 36/100, time=13, reward=0.954296875, eps=0.11195832518472115\n",
      "episode: 37/100, time=180, reward=0.3671875, eps=0.1066256455734924\n",
      "episode: 38/100, time=35, reward=0.876953125, eps=0.10564331721877035\n",
      "episode: 39/100, time=57, reward=0.799609375, eps=0.10407986765882413\n",
      "episode: 40/100, time=46, reward=0.83828125, eps=0.1028502257903926\n",
      "episode: 41/100, time=225, reward=0.208984375, eps=0.09722682156038087\n",
      "episode: 42/100, time=215, reward=0.244140625, eps=0.09241329967335143\n",
      "episode: 43/100, time=256, reward=0, eps=0.08731748503827268\n",
      "episode: 44/100, time=256, reward=0, eps=0.0828339153121039\n",
      "episode: 45/100, time=242, reward=0.14921874999999996, eps=0.07909196399292057\n",
      "episode: 46/100, time=256, reward=0, eps=0.07559666282512548\n"
     ]
    },
    {
     "ename": "KeyboardInterrupt",
     "evalue": "",
     "output_type": "error",
     "traceback": [
      "\u001b[0;31m---------------------------------------------------------------------------\u001b[0m",
      "\u001b[0;31mKeyboardInterrupt\u001b[0m                         Traceback (most recent call last)",
      "\u001b[0;32m<ipython-input-12-6f5c2365fff9>\u001b[0m in \u001b[0;36m<module>\u001b[0;34m\u001b[0m\n\u001b[1;32m     36\u001b[0m \u001b[0;34m\u001b[0m\u001b[0m\n\u001b[1;32m     37\u001b[0m         \u001b[0;31m# Lines 9 - 11\u001b[0m\u001b[0;34m\u001b[0m\u001b[0;34m\u001b[0m\u001b[0;34m\u001b[0m\u001b[0m\n\u001b[0;32m---> 38\u001b[0;31m         \u001b[0moptimize_model\u001b[0m\u001b[0;34m(\u001b[0m\u001b[0;34m)\u001b[0m \u001b[0;31m# TODO\u001b[0m\u001b[0;34m\u001b[0m\u001b[0;34m\u001b[0m\u001b[0m\n\u001b[0m\u001b[1;32m     39\u001b[0m \u001b[0;34m\u001b[0m\u001b[0m\n\u001b[1;32m     40\u001b[0m         \u001b[0;31m# Additional tracking\u001b[0m\u001b[0;34m\u001b[0m\u001b[0;34m\u001b[0m\u001b[0;34m\u001b[0m\u001b[0m\n",
      "\u001b[0;32m<ipython-input-11-d15bbd7b5a4a>\u001b[0m in \u001b[0;36moptimize_model\u001b[0;34m()\u001b[0m\n\u001b[1;32m     36\u001b[0m \u001b[0;34m\u001b[0m\u001b[0m\n\u001b[1;32m     37\u001b[0m     \u001b[0;31m# Computing the SF loss\u001b[0m\u001b[0;34m\u001b[0m\u001b[0;34m\u001b[0m\u001b[0;34m\u001b[0m\u001b[0m\n\u001b[0;32m---> 38\u001b[0;31m     \u001b[0mU_observed\u001b[0m \u001b[0;34m=\u001b[0m \u001b[0manet\u001b[0m\u001b[0;34m(\u001b[0m\u001b[0mtnet\u001b[0m\u001b[0;34m(\u001b[0m\u001b[0mstate_batch\u001b[0m\u001b[0;34m)\u001b[0m\u001b[0;34m)\u001b[0m\u001b[0;34m[\u001b[0m\u001b[0mtorch\u001b[0m\u001b[0;34m.\u001b[0m\u001b[0marange\u001b[0m\u001b[0;34m(\u001b[0m\u001b[0;36m0\u001b[0m\u001b[0;34m,\u001b[0m \u001b[0mBATCH_SIZE\u001b[0m\u001b[0;34m)\u001b[0m\u001b[0;34m,\u001b[0m\u001b[0maction_batch\u001b[0m\u001b[0;34m.\u001b[0m\u001b[0msqueeze\u001b[0m\u001b[0;34m(\u001b[0m\u001b[0;34m)\u001b[0m\u001b[0;34m,\u001b[0m\u001b[0;34m:\u001b[0m\u001b[0;34m]\u001b[0m\u001b[0;34m\u001b[0m\u001b[0;34m\u001b[0m\u001b[0m\n\u001b[0m\u001b[1;32m     39\u001b[0m \u001b[0;34m\u001b[0m\u001b[0m\n\u001b[1;32m     40\u001b[0m     \u001b[0maction_max\u001b[0m \u001b[0;34m=\u001b[0m \u001b[0manet\u001b[0m\u001b[0;34m(\u001b[0m\u001b[0mtnet\u001b[0m\u001b[0;34m(\u001b[0m\u001b[0mstate_batch\u001b[0m\u001b[0;34m)\u001b[0m\u001b[0;34m)\u001b[0m\u001b[0;34m.\u001b[0m\u001b[0mmatmul\u001b[0m\u001b[0;34m(\u001b[0m\u001b[0mwnet\u001b[0m\u001b[0;34m.\u001b[0m\u001b[0mhead\u001b[0m\u001b[0;34m.\u001b[0m\u001b[0mweight\u001b[0m\u001b[0;34m.\u001b[0m\u001b[0mdata\u001b[0m\u001b[0;34m.\u001b[0m\u001b[0mview\u001b[0m\u001b[0;34m(\u001b[0m\u001b[0;34m-\u001b[0m\u001b[0;36m1\u001b[0m\u001b[0;34m,\u001b[0m\u001b[0;36m1\u001b[0m\u001b[0;34m)\u001b[0m\u001b[0;34m)\u001b[0m\u001b[0;34m.\u001b[0m\u001b[0mmax\u001b[0m\u001b[0;34m(\u001b[0m\u001b[0;36m1\u001b[0m\u001b[0;34m)\u001b[0m\u001b[0;34m[\u001b[0m\u001b[0;36m1\u001b[0m\u001b[0;34m]\u001b[0m\u001b[0;34m\u001b[0m\u001b[0;34m\u001b[0m\u001b[0m\n",
      "\u001b[0;31mKeyboardInterrupt\u001b[0m: "
     ]
    }
   ],
   "source": [
    "# Initializations: Line 1\n",
    "num_episodes = 100 # CHANGE\n",
    "n_actions = 3\n",
    "R_eps = []\n",
    "ed = []; eps_vec = [];\n",
    "\n",
    "for i_episode in range(num_episodes): # Line 2\n",
    "    if(i_episode>1):\n",
    "        print('episode: {}/{}, time={}, reward={}, eps={}'.format(i_episode, num_episodes, ed[-1], R, eps_threshold))\n",
    "    R = 0\n",
    "    \n",
    "    # Initialize the environment and state: Line 3\n",
    "    env.reset() # <TODO: random initial location>\n",
    "    state = get_screen(env)\n",
    "    \n",
    "    for t in count(): # Line 4\n",
    "#         print(t, action)\n",
    "        \n",
    "        # Find abstracted states: Line 5\n",
    "        phi = tnet(state)\n",
    "        \n",
    "        # Select an action: Line 6\n",
    "        action = select_action(phi, wnet.head.weight.data.view(-1,1))\n",
    "        \n",
    "        # Perform an action: Line 7\n",
    "        _, reward, done, _ = env.step(action.item())\n",
    "        R = R + reward\n",
    "        reward = torch.tensor([reward], device=device).float()\n",
    "        next_state = get_screen(env)\n",
    "        \n",
    "        # Store the transition in memory: Line 8\n",
    "        memory.push(state, action, next_state, reward)\n",
    "\n",
    "        # Move to the next state\n",
    "        state = next_state\n",
    "\n",
    "        # Lines 9 - 11\n",
    "        optimize_model() # TODO\n",
    "        \n",
    "        # Additional tracking\n",
    "        if done:\n",
    "            ed.append(t+1)\n",
    "            R_eps.append(R)\n",
    "            eps_vec.append(eps_threshold)\n",
    "            break\n",
    "            \n",
    "    if i_episode % TARGET_UPDATE == 0:\n",
    "        anet_target.load_state_dict(anet.state_dict())"
   ]
  },
  {
   "cell_type": "code",
   "execution_count": 13,
   "metadata": {},
   "outputs": [
    {
     "data": {
      "text/plain": [
       "<matplotlib.image.AxesImage at 0x7f9cd14eada0>"
      ]
     },
     "execution_count": 13,
     "metadata": {},
     "output_type": "execute_result"
    },
    {
     "data": {
      "image/png": "[encoded data removed]",
      "text/plain": [
       "<Figure size 432x288 with 1 Axes>"
      ]
     },
     "metadata": {
      "needs_background": "light"
     },
     "output_type": "display_data"
    }
   ],
   "source": [
    "plt.imshow(env.render(mode='rgb_array'))"
   ]
  },
  {
   "cell_type": "code",
   "execution_count": 15,
   "metadata": {},
   "outputs": [
    {
     "data": {
      "image/png": "[encoded data removed]",
      "text/plain": [
       "<Figure size 1296x432 with 5 Axes>"
      ]
     },
     "metadata": {
      "needs_background": "light"
     },
     "output_type": "display_data"
    }
   ],
   "source": [
    "def visualize_results():\n",
    "    plt.figure(figsize=(18,6))\n",
    "    plt.subplot(2,3,1); plt.plot(ed); plt.title('ep_length');\n",
    "    plt.subplot(2,3,2); plt.plot(R_eps); plt.title('R'); \n",
    "    plt.subplot(2,3,3); plt.plot(eps_vec); plt.title('eps values'); \n",
    "    plt.subplot(2,3,4); plt.plot(L_r_vec[50:]); plt.title('reward loss'); \n",
    "    plt.subplot(2,3,5); plt.plot(L_m_vec); plt.title('SR loss'); plt.show()\n",
    "#     plt.subplot(2,3,6); plt.plot(); plt.title(''); plot.show()\n",
    "\n",
    "visualize_results()"
   ]
  },
  {
   "cell_type": "code",
   "execution_count": null,
   "metadata": {
    "scrolled": false
   },
   "outputs": [],
   "source": [
    "def sanity_check():\n",
    "    env.reset()\n",
    "    eps_threshold = 1\n",
    "    iterations = 15\n",
    "    for i in range(iterations):\n",
    "        plt.imshow(env.render(mode='rgb_array')); plt.show()\n",
    "        state = get_screen(env)\n",
    "        action = select_action(tnet(state), wnet.head.weight.data.view(-1,1))\n",
    "        print('recommended action: ', action.item())\n",
    "        env.step(action)\n",
    "        \n",
    "sanity_check()"
   ]
  },
  {
   "cell_type": "code",
   "execution_count": null,
   "metadata": {},
   "outputs": [],
   "source": []
  },
  {
   "cell_type": "code",
   "execution_count": null,
   "metadata": {},
   "outputs": [],
   "source": []
  }
 ],
 "metadata": {
  "kernelspec": {
   "display_name": "Python 3",
   "language": "python",
   "name": "python3"
  },
  "language_info": {
   "codemirror_mode": {
    "name": "ipython",
    "version": 3
   },
   "file_extension": ".py",
   "mimetype": "text/x-python",
   "name": "python",
   "nbconvert_exporter": "python",
   "pygments_lexer": "ipython3",
   "version": "3.6.8"
  }
 },
 "nbformat": 4,
 "nbformat_minor": 2
}
