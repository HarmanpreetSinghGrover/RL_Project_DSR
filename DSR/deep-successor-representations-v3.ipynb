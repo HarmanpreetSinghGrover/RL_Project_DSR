{
 "cells": [
  {
   "cell_type": "markdown",
   "metadata": {
    "heading_collapsed": true
   },
   "source": [
    "### Description of notebook"
   ]
  },
  {
   "cell_type": "markdown",
   "metadata": {
    "hidden": true
   },
   "source": [
    "In this notebook, I implement Deep Successor Reinforcement Learning by Tejas D. Kulkarni, Ardavan Saeedi, Simanta Gautam, Samuel J. Gershman. ([link](https://arxiv.org/abs/1606.02396))"
   ]
  },
  {
   "cell_type": "markdown",
   "metadata": {
    "heading_collapsed": true
   },
   "source": [
    "### Loading required libraries"
   ]
  },
  {
   "cell_type": "code",
   "execution_count": 1,
   "metadata": {
    "hidden": true
   },
   "outputs": [],
   "source": [
    "import torch\n",
    "import torch.nn as nn\n",
    "import torch.optim as optim\n",
    "import torch.nn.functional as F\n",
    "import torchvision.transforms as T\n",
    "from torch.utils.data import Dataset, DataLoader\n",
    "\n",
    "import gym\n",
    "import math\n",
    "import random\n",
    "import numpy as np\n",
    "import matplotlib\n",
    "%matplotlib inline\n",
    "import matplotlib.pyplot as plt\n",
    "from collections import namedtuple\n",
    "from itertools import count\n",
    "from PIL import Image\n",
    "from skimage.transform import resize\n",
    "\n",
    "# if gpu is to be used\n",
    "device = torch.device(\"cuda\" if torch.cuda.is_available() else \"cpu\")"
   ]
  },
  {
   "cell_type": "markdown",
   "metadata": {
    "heading_collapsed": true
   },
   "source": [
    "### Testing the environment"
   ]
  },
  {
   "cell_type": "code",
   "execution_count": 2,
   "metadata": {
    "hidden": true
   },
   "outputs": [
    {
     "name": "stdout",
     "output_type": "stream",
     "text": [
      "68 environments registered\n",
      "testing \"MiniGrid-Empty-5x5-v0\"\n",
      "testing agent_sees method\n"
     ]
    }
   ],
   "source": [
    "import random\n",
    "import numpy as np\n",
    "import gym\n",
    "from gym_minigrid.register import env_list\n",
    "from gym_minigrid.minigrid import Grid, OBJECT_TO_IDX\n",
    "\n",
    "# Test specifically importing a specific environment\n",
    "from gym_minigrid.envs import DoorKeyEnv\n",
    "\n",
    "# Test importing wrappers\n",
    "from gym_minigrid.wrappers import *\n",
    "\n",
    "##############################################################################\n",
    "\n",
    "print('%d environments registered' % len(env_list))\n",
    "\n",
    "for env_name in env_list:\n",
    "    print('testing \"%s\"' % env_name)\n",
    "\n",
    "    # Load the gym environment\n",
    "    env = gym.make(env_name)\n",
    "    env.max_steps = min(env.max_steps, 200)\n",
    "    env.reset()\n",
    "    env.render('rgb_array')\n",
    "\n",
    "    # Verify that the same seed always produces the same environment\n",
    "    for i in range(0, 5):\n",
    "        seed = 1337 + i\n",
    "        env.seed(seed)\n",
    "        grid1 = env.grid\n",
    "        env.seed(seed)\n",
    "        grid2 = env.grid\n",
    "        assert grid1 == grid2\n",
    "\n",
    "    env.reset()\n",
    "    \n",
    "    break\n",
    "\n",
    "    # Run for a few episodes\n",
    "    num_episodes = 0\n",
    "    while num_episodes < 5:\n",
    "        # Pick a random action\n",
    "        action = random.randint(0, env.action_space.n - 1)\n",
    "\n",
    "        obs, reward, done, info = env.step(action)\n",
    "\n",
    "        # Validate the agent position\n",
    "        assert env.agent_pos[0] < env.width\n",
    "        assert env.agent_pos[1] < env.height\n",
    "\n",
    "        # Test observation encode/decode roundtrip\n",
    "        img = obs['image']\n",
    "        vis_mask = img[:, :, 0] != OBJECT_TO_IDX['unseen']  # hackish\n",
    "        img2 = Grid.decode(img).encode(vis_mask=vis_mask)\n",
    "        assert np.array_equal(img, img2)\n",
    "\n",
    "        # Test the env to string function\n",
    "        str(env)\n",
    "\n",
    "        # Check that the reward is within the specified range\n",
    "        assert reward >= env.reward_range[0], reward\n",
    "        assert reward <= env.reward_range[1], reward\n",
    "\n",
    "        if done:\n",
    "            num_episodes += 1\n",
    "            env.reset()\n",
    "\n",
    "        env.render('rgb_array')\n",
    "        break\n",
    "\n",
    "    # Test the close method\n",
    "    env.close()\n",
    "\n",
    "    env = gym.make(env_name)\n",
    "    env = ReseedWrapper(env)\n",
    "    for _ in range(10):\n",
    "        env.reset()\n",
    "        env.step(0)\n",
    "        env.close()\n",
    "\n",
    "    env = gym.make(env_name)\n",
    "    env = ImgObsWrapper(env)\n",
    "    env.reset()\n",
    "    env.step(0)\n",
    "    env.close()\n",
    "\n",
    "    # Test the fully observable wrapper\n",
    "    env = gym.make(env_name)\n",
    "    env = FullyObsWrapper(env)\n",
    "    env.reset()\n",
    "    obs, _, _, _ = env.step(0)\n",
    "    assert obs.shape == env.observation_space.shape\n",
    "    env.close()\n",
    "\n",
    "    env = gym.make(env_name)\n",
    "    env = FlatObsWrapper(env)\n",
    "    env.reset()\n",
    "    env.step(0)\n",
    "    env.close()\n",
    "\n",
    "    env = gym.make(env_name)\n",
    "    env = AgentViewWrapper(env, 5)\n",
    "    env.reset()\n",
    "    env.step(0)\n",
    "    env.close()\n",
    "\n",
    "##############################################################################\n",
    "\n",
    "print('testing agent_sees method')\n",
    "env = gym.make('MiniGrid-DoorKey-6x6-v0')\n",
    "goal_pos = (env.grid.width - 2, env.grid.height - 2)\n",
    "\n",
    "# Test the \"in\" operator on grid objects\n",
    "assert ('green', 'goal') in env.grid\n",
    "assert ('blue', 'key') not in env.grid\n",
    "\n",
    "# Test the env.agent_sees() function\n",
    "env.reset()\n",
    "for i in range(0, 500):\n",
    "    action = random.randint(0, env.action_space.n - 1)\n",
    "    obs, reward, done, info = env.step(action)\n",
    "    goal_visible = ('green', 'goal') in Grid.decode(obs['image'])\n",
    "    agent_sees_goal = env.agent_sees(*goal_pos)\n",
    "    assert agent_sees_goal == goal_visible\n",
    "    if done:\n",
    "        env.reset()\n",
    "        break"
   ]
  },
  {
   "cell_type": "markdown",
   "metadata": {
    "heading_collapsed": true
   },
   "source": [
    "### Testing the envir"
   ]
  },
  {
   "cell_type": "code",
   "execution_count": 3,
   "metadata": {
    "hidden": true
   },
   "outputs": [
    {
     "data": {
      "image/png": "[encoded data removed]",
      "text/plain": [
       "<Figure size 432x288 with 1 Axes>"
      ]
     },
     "metadata": {
      "needs_background": "light"
     },
     "output_type": "display_data"
    }
   ],
   "source": [
    "env = gym.make('MiniGrid-Empty-Random-6x6-v0')\n",
    "# env.seed(108)\n",
    "obs = env.reset()\n",
    "# print(env.render(mode='rgb_array'))\n",
    "\n",
    "plt.imshow(env.render(mode='rgb_array')); plt.show()\n"
   ]
  },
  {
   "cell_type": "code",
   "execution_count": 4,
   "metadata": {
    "hidden": true
   },
   "outputs": [
    {
     "name": "stdout",
     "output_type": "stream",
     "text": [
      "0 False\n"
     ]
    },
    {
     "data": {
      "image/png": "[encoded data removed]",
      "text/plain": [
       "<Figure size 432x288 with 1 Axes>"
      ]
     },
     "metadata": {
      "needs_background": "light"
     },
     "output_type": "display_data"
    },
    {
     "data": {
      "image/png": "[encoded data removed]",
      "text/plain": [
       "<Figure size 432x288 with 1 Axes>"
      ]
     },
     "metadata": {
      "needs_background": "light"
     },
     "output_type": "display_data"
    }
   ],
   "source": [
    "_, R, done, _ = env.step(env.action_space.sample())\n",
    "print(R,done)\n",
    "plt.imshow(resize(env.render(mode='rgb_array'), (80,80), anti_aliasing=False)); plt.show()\n",
    "plt.imshow(env.render(mode='rgb_array')); plt.show()"
   ]
  },
  {
   "cell_type": "markdown",
   "metadata": {},
   "source": [
    "### Implementing neural network in torch for FA"
   ]
  },
  {
   "cell_type": "code",
   "execution_count": 5,
   "metadata": {},
   "outputs": [],
   "source": [
    "class thetaNet(nn.Module):\n",
    "\n",
    "    def __init__(self, h=80, w=80, outputs=16):\n",
    "        super(thetaNet, self).__init__()\n",
    "        self.conv1 = nn.Conv2d(3, 8, kernel_size=5, stride=2)\n",
    "        self.bn1 = nn.BatchNorm2d(8)\n",
    "        self.conv2 = nn.Conv2d(8, 16, kernel_size=5, stride=2)\n",
    "        self.bn2 = nn.BatchNorm2d(16)\n",
    "        self.conv3 = nn.Conv2d(16, 16, kernel_size=5, stride=2)\n",
    "        self.bn3 = nn.BatchNorm2d(16)\n",
    "\n",
    "        # Number of Linear input connections depends on output of conv2d layers\n",
    "        # and therefore the input image size, so compute it.\n",
    "        def conv2d_size_out(size, kernel_size = 5, stride = 2):\n",
    "            return (size - (kernel_size - 1) - 1) // stride  + 1\n",
    "        convw = conv2d_size_out(conv2d_size_out(conv2d_size_out(w)))\n",
    "        convh = conv2d_size_out(conv2d_size_out(conv2d_size_out(h)))\n",
    "        linear_input_size = convw * convh * 16\n",
    "        \n",
    "        self.head = nn.Linear(linear_input_size, outputs)\n",
    "\n",
    "    # Called with either one element to determine next action, or a batch\n",
    "    # during optimization. Returns tensor([[left0exp,right0exp]...]).\n",
    "    def forward(self, x):\n",
    "        x = F.relu(self.bn1(self.conv1(x)))\n",
    "        x = F.relu(self.bn2(self.conv2(x)))\n",
    "        x = F.relu(self.bn3(self.conv3(x)));\n",
    "        return self.head(x.view(x.size(0), -1))\n",
    "    \n",
    "class theta2Net(nn.Module): # decoder for thetaNet\n",
    "    def __init__(self, h=80, w=80, outputs=16):\n",
    "        super(theta2Net, self).__init__()\n",
    "        \n",
    "        def conv2d_size_out(size, kernel_size = 5, stride = 2):\n",
    "            return (size - (kernel_size - 1) - 1) // stride  + 1\n",
    "        self.convw = conv2d_size_out(conv2d_size_out(conv2d_size_out(w)))\n",
    "        self.convh = conv2d_size_out(conv2d_size_out(conv2d_size_out(h)))\n",
    "        linear_input_size = self.convw * self.convh * 16\n",
    "        \n",
    "        self.linear = nn.Linear(outputs, linear_input_size)\n",
    "        self.bn1 = nn.BatchNorm2d(16)\n",
    "        self.deconv1 = nn.ConvTranspose2d(16, 16, kernel_size=5, stride=2, output_padding=0)\n",
    "        self.bn2 = nn.BatchNorm2d(16)\n",
    "        self.deconv2 = nn.ConvTranspose2d(16, 8, kernel_size=5, stride=2, output_padding=1)\n",
    "        self.bn3 = nn.BatchNorm2d(8)\n",
    "        self.deconv3 = nn.ConvTranspose2d(8, 3, kernel_size=5, stride=2, output_padding=1)\n",
    "    \n",
    "    def forward(self, x):\n",
    "        x = F.relu(self.linear(x))\n",
    "#         import pdb; pdb.set_trace()\n",
    "        x = x.view(x.size(0), 16, self.convh, self.convw)\n",
    "        x = self.bn1(x)\n",
    "        x = F.relu(self.bn2(self.deconv1(x)))\n",
    "        x = F.relu(self.bn3(self.deconv2(x)))\n",
    "        x = self.deconv3(x)\n",
    "        \n",
    "        return x\n",
    "    \n",
    "class alphaNet(nn.Module):\n",
    "\n",
    "    def __init__(self, in_size=16, actions=3):\n",
    "        super(alphaNet, self).__init__()\n",
    "        self.head11 = nn.Linear(in_size, in_size)\n",
    "        self.head12 = nn.Linear(in_size, in_size)\n",
    "        self.head21 = nn.Linear(in_size, in_size)\n",
    "        self.head22 = nn.Linear(in_size, in_size)\n",
    "        self.head31 = nn.Linear(in_size, in_size)\n",
    "        self.head32 = nn.Linear(in_size, in_size)\n",
    "        self.actions = actions\n",
    "\n",
    "    # Called with either one element to determine next action, or a batch\n",
    "    # during optimization. Returns tensor([[left0exp,right0exp]...]).\n",
    "    def forward(self, x):\n",
    "        x1 = F.relu(self.head12(F.relu(self.head11(x))))\n",
    "        x2 = F.relu(self.head22(F.relu(self.head11(x))))\n",
    "        x3 = F.relu(self.head32(F.relu(self.head11(x))))\n",
    "        x = torch.cat((x1, x2, x3), 1)\n",
    "        return x.view(x.size(0), self.actions, -1)\n",
    "    \n",
    "class wNet(nn.Module):\n",
    "\n",
    "    def __init__(self, in_size=16):\n",
    "        super(wNet, self).__init__()\n",
    "        self.head = nn.Linear(in_size, 1)\n",
    "\n",
    "    # Called with either one element to determine next action, or a batch\n",
    "    # during optimization. Returns tensor([[left0exp,right0exp]...]).\n",
    "    def forward(self, x):\n",
    "        return self.head(x)"
   ]
  },
  {
   "cell_type": "markdown",
   "metadata": {},
   "source": [
    "### Implementing replay memory"
   ]
  },
  {
   "cell_type": "code",
   "execution_count": 6,
   "metadata": {},
   "outputs": [],
   "source": [
    "Transition = namedtuple('Transition',\n",
    "                        ('state', 'action', 'next_state', 'reward'))\n",
    "\n",
    "\n",
    "class ReplayMemory(object):\n",
    "\n",
    "    def __init__(self, capacity):\n",
    "        self.capacity = capacity\n",
    "        self.memory = []\n",
    "        self.position = 0\n",
    "\n",
    "    def push(self, *args):\n",
    "        \"\"\"Saves a transition.\"\"\"\n",
    "        if len(self.memory) < self.capacity:\n",
    "            self.memory.append(None)\n",
    "        self.memory[self.position] = Transition(*args)\n",
    "        self.position = (self.position + 1) % self.capacity\n",
    "\n",
    "    def sample(self, batch_size):\n",
    "        return random.sample(self.memory, batch_size)\n",
    "\n",
    "    def __len__(self):\n",
    "        return len(self.memory)"
   ]
  },
  {
   "cell_type": "markdown",
   "metadata": {},
   "source": [
    "### Setting up networks and optimization procedures"
   ]
  },
  {
   "cell_type": "code",
   "execution_count": 7,
   "metadata": {},
   "outputs": [],
   "source": [
    "tnet = thetaNet().to(device); tnet2 = theta2Net().to(device);\n",
    "anet = alphaNet().to(device); wnet = wNet().to(device); \n",
    "anet_target = alphaNet().to(device); anet_target.load_state_dict(anet.state_dict()); anet_target.eval()\n",
    "\n",
    "tw_params = list(tnet.parameters()) + list(wnet.parameters()) + list(tnet2.parameters())\n",
    "ta_params = list(tnet.parameters()) + list(anet.parameters())\n",
    "optimizer1 = optim.Adam(tw_params, lr=0.0005)\n",
    "optimizer2 = optim.Adam(anet.parameters(), lr=0.0005)\n",
    "memory = ReplayMemory(10000)"
   ]
  },
  {
   "cell_type": "markdown",
   "metadata": {},
   "source": [
    "### Creating select action method"
   ]
  },
  {
   "cell_type": "code",
   "execution_count": 8,
   "metadata": {},
   "outputs": [],
   "source": [
    "steps_done = 0\n",
    "BATCH_SIZE = 128\n",
    "GAMMA = 0.999\n",
    "EPS_START = 1\n",
    "EPS_END = 0.05\n",
    "EPS_DECAY = 5000\n",
    "TARGET_UPDATE = 10\n",
    "eps_threshold = 1\n",
    "EXPLORE_FOR = 1000\n",
    "\n",
    "def select_action(phi, w):\n",
    "    global steps_done\n",
    "    global eps_threshold\n",
    "    sample = random.random()\n",
    "    if(steps_done > EXPLORE_FOR):\n",
    "        eps_threshold = EPS_END + (EPS_START - EPS_END) * \\\n",
    "            math.exp(-1. * steps_done / EPS_DECAY)\n",
    "    steps_done += 1\n",
    "    if sample > eps_threshold:\n",
    "        with torch.no_grad():\n",
    "            # t.max(1) will return largest column value of each row.\n",
    "            # second column on max result is index of where max element was\n",
    "            # found, so we pick action with the larger expected reward.\n",
    "#             return policy_net(state).max(1)[1].view(1, 1)\n",
    "            aout = anet(phi)\n",
    "            return aout.matmul(w).max(1)[1] #maybe add .view(1,1)\n",
    "    else:\n",
    "#         import pdb; pdb.set_trace();\n",
    "        return torch.tensor([[random.randrange(n_actions)]], device=device, dtype=torch.long)"
   ]
  },
  {
   "cell_type": "markdown",
   "metadata": {},
   "source": [
    "### Setting up environment"
   ]
  },
  {
   "cell_type": "code",
   "execution_count": 9,
   "metadata": {},
   "outputs": [],
   "source": [
    "def get_screen(env):\n",
    "    k = env.render(mode='rgb_array')\n",
    "    k = resize(k, (80,80), anti_aliasing=False)\n",
    "    k = torch.Tensor(k)\n",
    "    k = k.permute(2,1,0).unsqueeze(0)\n",
    "    k = k.to(device)\n",
    "    return k"
   ]
  },
  {
   "cell_type": "code",
   "execution_count": 10,
   "metadata": {},
   "outputs": [
    {
     "name": "stdout",
     "output_type": "stream",
     "text": [
      "(256, 256, 3)\n"
     ]
    },
    {
     "data": {
      "text/plain": [
       "<matplotlib.image.AxesImage at 0x7f5bd537cfd0>"
      ]
     },
     "execution_count": 10,
     "metadata": {},
     "output_type": "execute_result"
    },
    {
     "data": {
      "image/png": "[encoded data removed]",
      "text/plain": [
       "<Figure size 432x288 with 1 Axes>"
      ]
     },
     "metadata": {
      "needs_background": "light"
     },
     "output_type": "display_data"
    }
   ],
   "source": [
    "from gym_minigrid.envs import EmptyEnv\n",
    "\n",
    "\n",
    "env = EmptyEnv()\n",
    "k = env.render(mode='rgb_array')\n",
    "print(k.shape)\n",
    "plt.imshow(resize(k, (80,80), anti_aliasing=False))"
   ]
  },
  {
   "cell_type": "markdown",
   "metadata": {},
   "source": [
    "### Optimization function"
   ]
  },
  {
   "cell_type": "code",
   "execution_count": 11,
   "metadata": {},
   "outputs": [],
   "source": [
    "loss = nn.MSELoss()\n",
    "loss_a = nn.MSELoss()\n",
    "L_r_vec = []\n",
    "L_m_vec = []\n",
    "def optimize_model():\n",
    "    if len(memory) < BATCH_SIZE:\n",
    "        return\n",
    "    transitions = memory.sample(BATCH_SIZE)\n",
    "    # Transpose the batch (see https://stackoverflow.com/a/19343/3343043 for\n",
    "    # detailed explanation). This converts batch-array of Transitions\n",
    "    # to Transition of batch-arrays.\n",
    "    batch = Transition(*zip(*transitions))\n",
    "\n",
    "    # Compute a mask of non-final states and concatenate the batch elements\n",
    "    # (a final state would've been the one after which simulation ended)\n",
    "    non_final_mask = torch.tensor(tuple(map(lambda s: s is not None,\n",
    "                                          batch.next_state)), device=device, dtype=torch.uint8)\n",
    "    non_final_next_states = torch.cat([s for s in batch.next_state\n",
    "                                                if s is not None])\n",
    "    state_batch = torch.cat(batch.state)\n",
    "    action_batch = torch.cat(batch.action)\n",
    "    reward_batch = torch.cat(batch.reward)\n",
    "    \n",
    "    \n",
    "#     import pdb; pdb.set_trace()\n",
    "    \n",
    "    # Computing the reward loss L_r, reconstruction loss\n",
    "    L_r = F.smooth_l1_loss(reward_batch, wnet(tnet(state_batch)).squeeze(1)) + loss_a(state_batch, tnet2(tnet(state_batch)))\n",
    "    L_r_vec.append(L_r.item())\n",
    "    \n",
    "    # Optimize the model\n",
    "    optimizer1.zero_grad()\n",
    "    L_r.backward()\n",
    "#     for param in policy_net.parameters():\n",
    "#         param.grad.data.clamp_(-1, 1)\n",
    "    optimizer1.step()\n",
    "    \n",
    "    # Computing the SF loss\n",
    "    U_observed = anet(tnet(state_batch))[torch.arange(0, BATCH_SIZE),action_batch.squeeze(),:]\n",
    "    \n",
    "    action_max = anet(tnet(state_batch)).matmul(wnet.head.weight.data.view(-1,1)).max(1)[1]\n",
    "    U_estimated = anet_target(tnet(state_batch))[torch.arange(0, BATCH_SIZE),action_max.squeeze(),:] \n",
    "    \n",
    "    L_m = loss(U_observed, U_estimated)\n",
    "    L_m_vec.append(L_m.item())\n",
    "    \n",
    "    # Optimize the model\n",
    "    optimizer2.zero_grad()\n",
    "    L_m.backward()\n",
    "#     for param in policy_net.parameters():\n",
    "#         param.grad.data.clamp_(-1, 1)\n",
    "    optimizer2.step()\n",
    "\n",
    "    # Compute Q(s_t, a) - the model computes Q(s_t), then we select the\n",
    "    # columns of actions taken. These are the actions which would've been taken\n",
    "    # for each batch state according to policy_net\n",
    "#     state_action_values = policy_net(state_batch).gather(1, action_batch)\n",
    "\n",
    "    # Compute V(s_{t+1}) for all next states.\n",
    "    # Expected values of actions for non_final_next_states are computed based\n",
    "    # on the \"older\" target_net; selecting their best reward with max(1)[0].\n",
    "    # This is merged based on the mask, such that we'll have either the expected\n",
    "    # state value or 0 in case the state was final.\n",
    "#     next_state_values = torch.zeros(BATCH_SIZE, device=device)\n",
    "#     next_state_values[non_final_mask] = target_net(non_final_next_states).max(1)[0].detach()\n",
    "    # Compute the expected Q values\n",
    "#     expected_state_action_values = (next_state_values * GAMMA) + reward_batch\n",
    "\n",
    "    # Compute Huber loss\n",
    "#     loss = F.smooth_l1_loss(state_action_values, expected_state_action_values.unsqueeze(1))\n",
    "\n",
    "    "
   ]
  },
  {
   "cell_type": "markdown",
   "metadata": {},
   "source": [
    "### Main code"
   ]
  },
  {
   "cell_type": "code",
   "execution_count": 12,
   "metadata": {},
   "outputs": [
    {
     "name": "stdout",
     "output_type": "stream",
     "text": [
      "episode: 2/100, time=29, reward=87.0046875, eps=1\n",
      "episode: 3/100, time=175, reward=21.076562500000023, eps=1\n",
      "episode: 4/100, time=256, reward=-25.600000000000094, eps=1\n",
      "episode: 5/100, time=116, reward=47.71875000000003, eps=1\n",
      "episode: 6/100, time=154, reward=30.55937500000004, eps=1\n",
      "episode: 7/100, time=235, reward=-6.0171875000000625, eps=0.7943132525497194\n",
      "episode: 8/100, time=256, reward=-25.600000000000094, eps=0.7571635612361526\n",
      "episode: 9/100, time=104, reward=53.13750000000002, eps=0.7426064776592426\n",
      "episode: 10/100, time=93, reward=58.10468750000002, eps=0.72984306488069\n",
      "episode: 11/100, time=256, reward=-25.600000000000094, eps=0.6959111687126854\n",
      "episode: 12/100, time=256, reward=-25.600000000000094, eps=0.6636728598400933\n",
      "episode: 13/100, time=119, reward=46.36406250000002, eps=0.6492398795200569\n",
      "episode: 14/100, time=256, reward=-25.600000000000094, eps=0.6193309984532614\n",
      "episode: 15/100, time=256, reward=-25.600000000000094, eps=0.5909149105019447\n",
      "episode: 16/100, time=256, reward=-25.600000000000094, eps=0.5639171083222628\n",
      "episode: 17/100, time=256, reward=-25.600000000000094, eps=0.5382668033336954\n",
      "episode: 18/100, time=256, reward=-25.600000000000094, eps=0.5138967401104865\n",
      "episode: 19/100, time=256, reward=-25.600000000000094, eps=0.4907430200370644\n",
      "episode: 20/100, time=44, reward=80.23125, eps=0.4868814970814057\n",
      "episode: 21/100, time=256, reward=-25.600000000000094, eps=0.4650761446957191\n",
      "episode: 22/100, time=160, reward=27.85000000000004, eps=0.45200397820186133\n",
      "episode: 23/100, time=256, reward=-25.600000000000094, eps=0.4319394104330274\n",
      "episode: 24/100, time=256, reward=-25.600000000000094, eps=0.4128762926536958\n",
      "episode: 25/100, time=256, reward=-25.600000000000094, eps=0.39476464112671206\n",
      "episode: 26/100, time=256, reward=-25.600000000000094, eps=0.37755696687153084\n",
      "episode: 27/100, time=51, reward=77.0703125, eps=0.374232867535944\n",
      "episode: 28/100, time=256, reward=-25.600000000000094, eps=0.35804996215113305\n",
      "episode: 29/100, time=169, reward=23.78593750000003, eps=0.347811871838475\n",
      "episode: 30/100, time=108, reward=51.331250000000026, eps=0.34144811144014625\n",
      "episode: 31/100, time=256, reward=-25.600000000000094, eps=0.3269015380225243\n",
      "episode: 32/100, time=256, reward=-25.600000000000094, eps=0.31308100395766625\n",
      "episode: 33/100, time=256, reward=-25.600000000000094, eps=0.29995027162956267\n",
      "episode: 34/100, time=77, reward=65.3296875, eps=0.29613052498624864\n",
      "episode: 35/100, time=256, reward=-25.600000000000094, eps=0.28384581422130833\n",
      "episode: 36/100, time=256, reward=-25.600000000000094, eps=0.27217425015398566\n",
      "episode: 37/100, time=256, reward=-25.600000000000094, eps=0.2610852297949233\n",
      "episode: 38/100, time=133, reward=40.04218750000004, eps=0.2555443826523391\n",
      "episode: 39/100, time=256, reward=-25.600000000000094, eps=0.24528538169996517\n",
      "episode: 40/100, time=256, reward=-25.600000000000094, eps=0.23553842150094445\n",
      "episode: 41/100, time=256, reward=-25.600000000000094, eps=0.2262779454017283\n",
      "episode: 42/100, time=63, reward=71.65156250000001, eps=0.22407077764727168\n",
      "episode: 43/100, time=256, reward=-25.600000000000094, eps=0.21538266731985722\n",
      "episode: 44/100, time=256, reward=-25.600000000000094, eps=0.20712819244855746\n",
      "episode: 45/100, time=256, reward=-25.600000000000094, eps=0.19928570969532622\n",
      "episode: 46/100, time=256, reward=-25.600000000000094, eps=0.19183465597068805\n",
      "episode: 47/100, time=256, reward=-25.600000000000094, eps=0.18475549451705658\n",
      "episode: 48/100, time=256, reward=-25.600000000000094, eps=0.1780296636831077\n",
      "episode: 49/100, time=256, reward=-25.600000000000094, eps=0.17163952825489356\n",
      "episode: 50/100, time=249, reward=-12.33906250000008, eps=0.1657302421924287\n",
      "episode: 51/100, time=42, reward=81.134375, eps=0.16476217971262813\n",
      "episode: 52/100, time=245, reward=-10.532812500000077, eps=0.1592743819254331\n",
      "episode: 53/100, time=256, reward=-25.600000000000094, eps=0.1538203482331612\n",
      "episode: 54/100, time=256, reward=-25.600000000000094, eps=0.14863853281375708\n",
      "episode: 55/100, time=22, reward=90.165625, eps=0.14820547669150916\n",
      "episode: 56/100, time=222, reward=-0.1468750000000476, eps=0.14394053583488778\n",
      "episode: 57/100, time=256, reward=-25.600000000000094, eps=0.1392518353500552\n",
      "episode: 58/100, time=256, reward=-25.600000000000094, eps=0.13479715431211098\n",
      "episode: 59/100, time=256, reward=-25.600000000000094, eps=0.13056481249074406\n",
      "episode: 60/100, time=151, reward=31.914062500000036, eps=0.1281681272538981\n",
      "episode: 61/100, time=256, reward=-25.600000000000094, eps=0.1242666492295659\n",
      "episode: 62/100, time=256, reward=-25.600000000000094, eps=0.12055989930361719\n",
      "episode: 63/100, time=256, reward=-25.600000000000094, eps=0.11703815833062459\n",
      "episode: 64/100, time=256, reward=-25.600000000000094, eps=0.1136921922609873\n",
      "episode: 65/100, time=256, reward=-25.600000000000094, eps=0.11051322792913566\n",
      "episode: 66/100, time=256, reward=-25.600000000000094, eps=0.10749293005017946\n",
      "episode: 67/100, time=256, reward=-25.600000000000094, eps=0.104623379364685\n",
      "episode: 68/100, time=256, reward=-25.600000000000094, eps=0.10189705187427617\n",
      "episode: 69/100, time=256, reward=-25.600000000000094, eps=0.09930679911361509\n",
      "episode: 70/100, time=256, reward=-25.600000000000094, eps=0.09684582940703516\n",
      "episode: 71/100, time=203, reward=8.432812499999976, eps=0.09498198087570915\n",
      "episode: 72/100, time=19, reward=91.5203125, eps=0.09481137370729867\n",
      "episode: 73/100, time=256, reward=-25.600000000000094, eps=0.09257477682438633\n",
      "episode: 74/100, time=18, reward=91.971875, eps=0.09242178318160865\n",
      "episode: 75/100, time=256, reward=-25.600000000000094, eps=0.09030445402648582\n",
      "episode: 76/100, time=256, reward=-25.600000000000094, eps=0.0882928036621847\n",
      "episode: 77/100, time=256, reward=-25.600000000000094, eps=0.08638155751587728\n",
      "episode: 78/100, time=256, reward=-25.600000000000094, eps=0.08456570427587154\n",
      "episode: 79/100, time=256, reward=-25.600000000000094, eps=0.08284048275188842\n",
      "episode: 80/100, time=149, reward=32.81718750000004, eps=0.08187627442354864\n",
      "episode: 81/100, time=251, reward=-13.242187500000087, eps=0.08031558645149657\n",
      "episode: 82/100, time=250, reward=-12.790625000000084, eps=0.07883707785365872\n",
      "episode: 83/100, time=94, reward=57.653125, eps=0.07830000509245513\n",
      "episode: 84/100, time=36, reward=83.84375, eps=0.07809697683459906\n",
      "episode: 85/100, time=256, reward=-25.600000000000094, eps=0.07669461833476826\n",
      "episode: 86/100, time=46, reward=79.328125, eps=0.0764501541058268\n",
      "episode: 87/100, time=256, reward=-25.600000000000094, eps=0.07512999077827393\n",
      "episode: 88/100, time=12, reward=94.68125, eps=0.07506975111691473\n",
      "episode: 89/100, time=26, reward=88.359375, eps=0.07493972676740357\n",
      "episode: 90/100, time=197, reward=11.142187499999988, eps=0.0739762075031134\n",
      "episode: 91/100, time=91, reward=59.007812500000014, eps=0.07354378748489056\n",
      "episode: 92/100, time=192, reward=13.399999999999991, eps=0.07265684433877165\n",
      "episode: 93/100, time=45, reward=79.7796875, eps=0.07245384759529452\n",
      "episode: 94/100, time=256, reward=-25.600000000000094, eps=0.07133314538542578\n",
      "episode: 95/100, time=133, reward=40.04218750000004, eps=0.07077316448213847\n",
      "episode: 96/100, time=255, reward=-15.048437500000091, eps=0.06974029512683796\n",
      "episode: 97/100, time=68, reward=69.39375000000001, eps=0.06947364444769429\n",
      "episode: 98/100, time=38, reward=82.940625, eps=0.0693262057267026\n",
      "episode: 99/100, time=75, reward=66.23281250000001, eps=0.06903847600859982\n"
     ]
    }
   ],
   "source": [
    "# Initializations: Line 1\n",
    "num_episodes = 100 # CHANGE\n",
    "n_actions = 3\n",
    "R_eps = []\n",
    "ed = []; eps_vec = [];\n",
    "\n",
    "#Setting seeds\n",
    "torch.manual_seed(0); np.random.seed(0)\n",
    "torch.backends.cudnn.deterministic = True\n",
    "torch.backends.cudnn.benchmark = False\n",
    "\n",
    "for i_episode in range(num_episodes): # Line 2\n",
    "    if(i_episode>1):\n",
    "        print('episode: {}/{}, time={}, reward={}, eps={}'.format(i_episode, num_episodes, ed[-1], R, eps_threshold))\n",
    "    R = 0\n",
    "    \n",
    "    # Initialize the environment and state: Line 3\n",
    "    env.reset() # <TODO: random initial location>\n",
    "    state = get_screen(env)\n",
    "    \n",
    "    for t in count(): # Line 4\n",
    "#         print(t, action)\n",
    "        \n",
    "        # Find abstracted states: Line 5\n",
    "        phi = tnet(state)\n",
    "        \n",
    "        # Select an action: Line 6\n",
    "        action = select_action(phi, wnet.head.weight.data.view(-1,1))\n",
    "        \n",
    "        # Perform an action: Line 7\n",
    "        _, reward, done, _ = env.step(action.item())\n",
    "        if(reward == 0): \n",
    "            reward = -0.1\n",
    "        else:\n",
    "            reward = reward * 100\n",
    "        R = R + reward\n",
    "        reward = torch.tensor([reward], device=device).float()\n",
    "        next_state = get_screen(env)\n",
    "        \n",
    "        # Store the transition in memory: Line 8\n",
    "        memory.push(state, action, next_state, reward)\n",
    "\n",
    "        # Move to the next state\n",
    "        state = next_state\n",
    "\n",
    "        # Lines 9 - 11\n",
    "        optimize_model() # TODO\n",
    "        \n",
    "        # Additional tracking\n",
    "        if done:\n",
    "            ed.append(t+1)\n",
    "            R_eps.append(R)\n",
    "            eps_vec.append(eps_threshold)\n",
    "            break\n",
    "            \n",
    "    if i_episode % TARGET_UPDATE == 0:\n",
    "        anet_target.load_state_dict(anet.state_dict())"
   ]
  },
  {
   "cell_type": "code",
   "execution_count": 13,
   "metadata": {},
   "outputs": [
    {
     "data": {
      "text/plain": [
       "<matplotlib.image.AxesImage at 0x7f5bd644f978>"
      ]
     },
     "execution_count": 13,
     "metadata": {},
     "output_type": "execute_result"
    },
    {
     "data": {
      "image/png": "[encoded data removed]",
      "text/plain": [
       "<Figure size 432x288 with 1 Axes>"
      ]
     },
     "metadata": {
      "needs_background": "light"
     },
     "output_type": "display_data"
    }
   ],
   "source": [
    "plt.imshow(env.render(mode='rgb_array'))"
   ]
  },
  {
   "cell_type": "code",
   "execution_count": 14,
   "metadata": {},
   "outputs": [
    {
     "data": {
      "image/png": "[encoded data removed]",
      "text/plain": [
       "<Figure size 1296x432 with 5 Axes>"
      ]
     },
     "metadata": {
      "needs_background": "light"
     },
     "output_type": "display_data"
    }
   ],
   "source": [
    "def visualize_results():\n",
    "    plt.figure(figsize=(18,6))\n",
    "    plt.subplot(2,3,1); plt.plot(ed); plt.title('ep_length');\n",
    "    plt.subplot(2,3,2); plt.plot(R_eps); plt.title('R'); \n",
    "    plt.subplot(2,3,3); plt.plot(eps_vec); plt.title('eps values'); \n",
    "    plt.subplot(2,3,4); plt.plot(L_r_vec[:]); plt.title('reward loss'); \n",
    "    plt.subplot(2,3,5); plt.plot(L_m_vec); plt.title('SR loss'); plt.show()\n",
    "#     plt.subplot(2,3,6); plt.plot(); plt.title(''); plot.show()\n",
    "\n",
    "visualize_results()"
   ]
  },
  {
   "cell_type": "code",
   "execution_count": 15,
   "metadata": {
    "scrolled": false
   },
   "outputs": [
    {
     "data": {
      "image/png": "[encoded data removed]",
      "text/plain": [
       "<Figure size 432x288 with 1 Axes>"
      ]
     },
     "metadata": {
      "needs_background": "light"
     },
     "output_type": "display_data"
    },
    {
     "name": "stdout",
     "output_type": "stream",
     "text": [
      "recommended action:  0\n"
     ]
    },
    {
     "data": {
      "image/png": "[encoded data removed]",
      "text/plain": [
       "<Figure size 432x288 with 1 Axes>"
      ]
     },
     "metadata": {
      "needs_background": "light"
     },
     "output_type": "display_data"
    },
    {
     "name": "stdout",
     "output_type": "stream",
     "text": [
      "recommended action:  0\n"
     ]
    },
    {
     "data": {
      "image/png": "[encoded data removed]",
      "text/plain": [
       "<Figure size 432x288 with 1 Axes>"
      ]
     },
     "metadata": {
      "needs_background": "light"
     },
     "output_type": "display_data"
    },
    {
     "name": "stdout",
     "output_type": "stream",
     "text": [
      "recommended action:  0\n"
     ]
    },
    {
     "data": {
      "image/png": "[encoded data removed]",
      "text/plain": [
       "<Figure size 432x288 with 1 Axes>"
      ]
     },
     "metadata": {
      "needs_background": "light"
     },
     "output_type": "display_data"
    },
    {
     "name": "stdout",
     "output_type": "stream",
     "text": [
      "recommended action:  2\n"
     ]
    },
    {
     "data": {
      "image/png": "[encoded data removed]",
      "text/plain": [
       "<Figure size 432x288 with 1 Axes>"
      ]
     },
     "metadata": {
      "needs_background": "light"
     },
     "output_type": "display_data"
    },
    {
     "name": "stdout",
     "output_type": "stream",
     "text": [
      "recommended action:  1\n"
     ]
    },
    {
     "data": {
      "image/png": "[encoded data removed]",
      "text/plain": [
       "<Figure size 432x288 with 1 Axes>"
      ]
     },
     "metadata": {
      "needs_background": "light"
     },
     "output_type": "display_data"
    },
    {
     "name": "stdout",
     "output_type": "stream",
     "text": [
      "recommended action:  0\n"
     ]
    },
    {
     "data": {
      "image/png": "[encoded data removed]",
      "text/plain": [
       "<Figure size 432x288 with 1 Axes>"
      ]
     },
     "metadata": {
      "needs_background": "light"
     },
     "output_type": "display_data"
    },
    {
     "name": "stdout",
     "output_type": "stream",
     "text": [
      "recommended action:  2\n"
     ]
    },
    {
     "data": {
      "image/png": "[encoded data removed]",
      "text/plain": [
       "<Figure size 432x288 with 1 Axes>"
      ]
     },
     "metadata": {
      "needs_background": "light"
     },
     "output_type": "display_data"
    },
    {
     "name": "stdout",
     "output_type": "stream",
     "text": [
      "recommended action:  2\n"
     ]
    },
    {
     "data": {
      "image/png": "[encoded data removed]",
      "text/plain": [
       "<Figure size 432x288 with 1 Axes>"
      ]
     },
     "metadata": {
      "needs_background": "light"
     },
     "output_type": "display_data"
    },
    {
     "name": "stdout",
     "output_type": "stream",
     "text": [
      "recommended action:  2\n"
     ]
    },
    {
     "data": {
      "image/png": "[encoded data removed]",
      "text/plain": [
       "<Figure size 432x288 with 1 Axes>"
      ]
     },
     "metadata": {
      "needs_background": "light"
     },
     "output_type": "display_data"
    },
    {
     "name": "stdout",
     "output_type": "stream",
     "text": [
      "recommended action:  2\n"
     ]
    },
    {
     "data": {
      "image/png": "[encoded data removed]",
      "text/plain": [
       "<Figure size 432x288 with 1 Axes>"
      ]
     },
     "metadata": {
      "needs_background": "light"
     },
     "output_type": "display_data"
    },
    {
     "name": "stdout",
     "output_type": "stream",
     "text": [
      "recommended action:  2\n"
     ]
    },
    {
     "data": {
      "image/png": "[encoded data removed]",
      "text/plain": [
       "<Figure size 432x288 with 1 Axes>"
      ]
     },
     "metadata": {
      "needs_background": "light"
     },
     "output_type": "display_data"
    },
    {
     "name": "stdout",
     "output_type": "stream",
     "text": [
      "recommended action:  2\n"
     ]
    },
    {
     "data": {
      "image/png": "[encoded data removed]",
      "text/plain": [
       "<Figure size 432x288 with 1 Axes>"
      ]
     },
     "metadata": {
      "needs_background": "light"
     },
     "output_type": "display_data"
    },
    {
     "name": "stdout",
     "output_type": "stream",
     "text": [
      "recommended action:  2\n"
     ]
    },
    {
     "data": {
      "image/png": "[encoded data removed]",
      "text/plain": [
       "<Figure size 432x288 with 1 Axes>"
      ]
     },
     "metadata": {
      "needs_background": "light"
     },
     "output_type": "display_data"
    },
    {
     "name": "stdout",
     "output_type": "stream",
     "text": [
      "recommended action:  2\n"
     ]
    },
    {
     "data": {
      "image/png": "[encoded data removed]",
      "text/plain": [
       "<Figure size 432x288 with 1 Axes>"
      ]
     },
     "metadata": {
      "needs_background": "light"
     },
     "output_type": "display_data"
    },
    {
     "name": "stdout",
     "output_type": "stream",
     "text": [
      "recommended action:  2\n"
     ]
    }
   ],
   "source": [
    "def sanity_check():\n",
    "    env.reset()\n",
    "    eps_threshold = 1\n",
    "    iterations = 15\n",
    "    for i in range(iterations):\n",
    "        plt.imshow(env.render(mode='rgb_array')); plt.show()\n",
    "        state = get_screen(env)\n",
    "        action = select_action(tnet(state), wnet.head.weight.data.view(-1,1))\n",
    "        print('recommended action: ', action.item())\n",
    "        env.step(action)\n",
    "        \n",
    "sanity_check()"
   ]
  },
  {
   "cell_type": "code",
   "execution_count": 34,
   "metadata": {},
   "outputs": [
    {
     "data": {
      "image/png": "[encoded data removed]",
      "text/plain": [
       "<Figure size 432x288 with 1 Axes>"
      ]
     },
     "metadata": {
      "needs_background": "light"
     },
     "output_type": "display_data"
    },
    {
     "name": "stderr",
     "output_type": "stream",
     "text": [
      "Clipping input data to the valid range for imshow with RGB data ([0..1] for floats or [0..255] for integers).\n"
     ]
    },
    {
     "data": {
      "text/plain": [
       "<matplotlib.image.AxesImage at 0x7f5bd47d8518>"
      ]
     },
     "execution_count": 34,
     "metadata": {},
     "output_type": "execute_result"
    },
    {
     "data": {
      "image/png": "[encoded data removed]",
      "text/plain": [
       "<Figure size 432x288 with 1 Axes>"
      ]
     },
     "metadata": {
      "needs_background": "light"
     },
     "output_type": "display_data"
    }
   ],
   "source": [
    "plt.imshow(state.cpu().squeeze(0).permute(1,2,0).numpy()); plt.show()\n",
    "plt.imshow(tnet2(tnet(state)).cpu().squeeze(0).permute(1,2,0).detach().numpy())"
   ]
  },
  {
   "cell_type": "code",
   "execution_count": 31,
   "metadata": {},
   "outputs": [
    {
     "data": {
      "text/plain": [
       "array([[[0.39862627, 0.3987195 , 0.39681146],\n",
       "        [0.38716918, 0.39771736, 0.3950277 ],\n",
       "        [0.37381113, 0.38408667, 0.37952206],\n",
       "        ...,\n",
       "        [0.44266462, 0.44194978, 0.4406041 ],\n",
       "        [0.44691914, 0.44596943, 0.4469949 ],\n",
       "        [0.44071347, 0.44094184, 0.44175392]],\n",
       "\n",
       "       [[0.39161792, 0.3971165 , 0.39479285],\n",
       "        [0.3772248 , 0.39560604, 0.39305624],\n",
       "        [0.36849427, 0.38590914, 0.3810865 ],\n",
       "        ...,\n",
       "        [0.44016993, 0.44650683, 0.44470063],\n",
       "        [0.44513655, 0.44788045, 0.44847342],\n",
       "        [0.44071347, 0.44094184, 0.44175392]],\n",
       "\n",
       "       [[0.38224065, 0.38392326, 0.3854321 ],\n",
       "        [0.36330384, 0.38193557, 0.384176  ],\n",
       "        [0.32829005, 0.33773804, 0.3420064 ],\n",
       "        ...,\n",
       "        [0.4304593 , 0.43028003, 0.43252534],\n",
       "        [0.44095343, 0.44388974, 0.4449655 ],\n",
       "        [0.44071347, 0.44094184, 0.44175392]],\n",
       "\n",
       "       ...,\n",
       "\n",
       "       [[0.42722538, 0.42712468, 0.4317458 ],\n",
       "        [0.4184736 , 0.41960838, 0.4251441 ],\n",
       "        [0.40165246, 0.39944088, 0.40761364],\n",
       "        ...,\n",
       "        [0.42559484, 0.42147925, 0.42520466],\n",
       "        [0.43969613, 0.43852836, 0.4392689 ],\n",
       "        [0.44071347, 0.44094184, 0.44175392]],\n",
       "\n",
       "       [[0.43415758, 0.43735018, 0.4397512 ],\n",
       "        [0.43909845, 0.43766797, 0.4393963 ],\n",
       "        [0.42877036, 0.4315241 , 0.43213767],\n",
       "        ...,\n",
       "        [0.434179  , 0.43689197, 0.43601143],\n",
       "        [0.443258  , 0.44141883, 0.44151834],\n",
       "        [0.44071347, 0.44094184, 0.44175392]],\n",
       "\n",
       "       [[0.44071347, 0.44094184, 0.44175392],\n",
       "        [0.44071347, 0.44094184, 0.44175392],\n",
       "        [0.44071347, 0.44094184, 0.44175392],\n",
       "        ...,\n",
       "        [0.44071347, 0.44094184, 0.44175392],\n",
       "        [0.44071347, 0.44094184, 0.44175392],\n",
       "        [0.44071347, 0.44094184, 0.44175392]]], dtype=float32)"
      ]
     },
     "execution_count": 31,
     "metadata": {},
     "output_type": "execute_result"
    }
   ],
   "source": [
    "tnet2(tnet(state)).cpu().squeeze(0).permute(1,2,0).detach().numpy()"
   ]
  }
 ],
 "metadata": {
  "kernelspec": {
   "display_name": "Python 3",
   "language": "python",
   "name": "python3"
  },
  "language_info": {
   "codemirror_mode": {
    "name": "ipython",
    "version": 3
   },
   "file_extension": ".py",
   "mimetype": "text/x-python",
   "name": "python",
   "nbconvert_exporter": "python",
   "pygments_lexer": "ipython3",
   "version": "3.6.8"
  }
 },
 "nbformat": 4,
 "nbformat_minor": 2
}
